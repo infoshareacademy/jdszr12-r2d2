{
 "cells": [
  {
   "cell_type": "code",
   "execution_count": 111,
   "id": "0376eea4",
   "metadata": {},
   "outputs": [],
   "source": [
    "from sklearn.tree import plot_tree\n",
    "import pandas as pd\n",
    "import numpy as np\n",
    "import seaborn as sns\n",
    "from sklearn.datasets import load_diabetes\n",
    "from sklearn.model_selection import train_test_split\n",
    "from sklearn.tree import DecisionTreeClassifier, DecisionTreeRegressor\n",
    "import matplotlib.pyplot as plt\n",
    "from sklearn.metrics import accuracy_score, classification_report, f1_score, precision_score, roc_auc_score, roc_curve, balanced_accuracy_score, confusion_matrix\n",
    "from sklearn.preprocessing import LabelEncoder\n",
    "from sklearn.model_selection import cross_val_score, StratifiedKFold\n",
    "from sklearn.preprocessing import StandardScaler\n",
    "from imblearn.over_sampling import SMOTE"
   ]
  },
  {
   "cell_type": "code",
   "execution_count": 15,
   "id": "96900ef5",
   "metadata": {},
   "outputs": [],
   "source": [
    "df=pd.read_csv(\"neo.csv\")"
   ]
  },
  {
   "cell_type": "code",
   "execution_count": 16,
   "id": "1e8f1b7e",
   "metadata": {},
   "outputs": [
    {
     "data": {
      "text/html": [
       "<div>\n",
       "<style scoped>\n",
       "    .dataframe tbody tr th:only-of-type {\n",
       "        vertical-align: middle;\n",
       "    }\n",
       "\n",
       "    .dataframe tbody tr th {\n",
       "        vertical-align: top;\n",
       "    }\n",
       "\n",
       "    .dataframe thead th {\n",
       "        text-align: right;\n",
       "    }\n",
       "</style>\n",
       "<table border=\"1\" class=\"dataframe\">\n",
       "  <thead>\n",
       "    <tr style=\"text-align: right;\">\n",
       "      <th></th>\n",
       "      <th>id</th>\n",
       "      <th>name</th>\n",
       "      <th>est_diameter_min</th>\n",
       "      <th>est_diameter_max</th>\n",
       "      <th>relative_velocity</th>\n",
       "      <th>miss_distance</th>\n",
       "      <th>orbiting_body</th>\n",
       "      <th>sentry_object</th>\n",
       "      <th>absolute_magnitude</th>\n",
       "      <th>hazardous</th>\n",
       "    </tr>\n",
       "  </thead>\n",
       "  <tbody>\n",
       "    <tr>\n",
       "      <th>0</th>\n",
       "      <td>2162635</td>\n",
       "      <td>162635 (2000 SS164)</td>\n",
       "      <td>1.198271</td>\n",
       "      <td>2.679415</td>\n",
       "      <td>13569.249224</td>\n",
       "      <td>5.483974e+07</td>\n",
       "      <td>Earth</td>\n",
       "      <td>False</td>\n",
       "      <td>16.73</td>\n",
       "      <td>False</td>\n",
       "    </tr>\n",
       "    <tr>\n",
       "      <th>1</th>\n",
       "      <td>2277475</td>\n",
       "      <td>277475 (2005 WK4)</td>\n",
       "      <td>0.265800</td>\n",
       "      <td>0.594347</td>\n",
       "      <td>73588.726663</td>\n",
       "      <td>6.143813e+07</td>\n",
       "      <td>Earth</td>\n",
       "      <td>False</td>\n",
       "      <td>20.00</td>\n",
       "      <td>True</td>\n",
       "    </tr>\n",
       "    <tr>\n",
       "      <th>2</th>\n",
       "      <td>2512244</td>\n",
       "      <td>512244 (2015 YE18)</td>\n",
       "      <td>0.722030</td>\n",
       "      <td>1.614507</td>\n",
       "      <td>114258.692129</td>\n",
       "      <td>4.979872e+07</td>\n",
       "      <td>Earth</td>\n",
       "      <td>False</td>\n",
       "      <td>17.83</td>\n",
       "      <td>False</td>\n",
       "    </tr>\n",
       "    <tr>\n",
       "      <th>3</th>\n",
       "      <td>3596030</td>\n",
       "      <td>(2012 BV13)</td>\n",
       "      <td>0.096506</td>\n",
       "      <td>0.215794</td>\n",
       "      <td>24764.303138</td>\n",
       "      <td>2.543497e+07</td>\n",
       "      <td>Earth</td>\n",
       "      <td>False</td>\n",
       "      <td>22.20</td>\n",
       "      <td>False</td>\n",
       "    </tr>\n",
       "    <tr>\n",
       "      <th>4</th>\n",
       "      <td>3667127</td>\n",
       "      <td>(2014 GE35)</td>\n",
       "      <td>0.255009</td>\n",
       "      <td>0.570217</td>\n",
       "      <td>42737.733765</td>\n",
       "      <td>4.627557e+07</td>\n",
       "      <td>Earth</td>\n",
       "      <td>False</td>\n",
       "      <td>20.09</td>\n",
       "      <td>True</td>\n",
       "    </tr>\n",
       "    <tr>\n",
       "      <th>...</th>\n",
       "      <td>...</td>\n",
       "      <td>...</td>\n",
       "      <td>...</td>\n",
       "      <td>...</td>\n",
       "      <td>...</td>\n",
       "      <td>...</td>\n",
       "      <td>...</td>\n",
       "      <td>...</td>\n",
       "      <td>...</td>\n",
       "      <td>...</td>\n",
       "    </tr>\n",
       "    <tr>\n",
       "      <th>90831</th>\n",
       "      <td>3763337</td>\n",
       "      <td>(2016 VX1)</td>\n",
       "      <td>0.026580</td>\n",
       "      <td>0.059435</td>\n",
       "      <td>52078.886692</td>\n",
       "      <td>1.230039e+07</td>\n",
       "      <td>Earth</td>\n",
       "      <td>False</td>\n",
       "      <td>25.00</td>\n",
       "      <td>False</td>\n",
       "    </tr>\n",
       "    <tr>\n",
       "      <th>90832</th>\n",
       "      <td>3837603</td>\n",
       "      <td>(2019 AD3)</td>\n",
       "      <td>0.016771</td>\n",
       "      <td>0.037501</td>\n",
       "      <td>46114.605073</td>\n",
       "      <td>5.432121e+07</td>\n",
       "      <td>Earth</td>\n",
       "      <td>False</td>\n",
       "      <td>26.00</td>\n",
       "      <td>False</td>\n",
       "    </tr>\n",
       "    <tr>\n",
       "      <th>90833</th>\n",
       "      <td>54017201</td>\n",
       "      <td>(2020 JP3)</td>\n",
       "      <td>0.031956</td>\n",
       "      <td>0.071456</td>\n",
       "      <td>7566.807732</td>\n",
       "      <td>2.840077e+07</td>\n",
       "      <td>Earth</td>\n",
       "      <td>False</td>\n",
       "      <td>24.60</td>\n",
       "      <td>False</td>\n",
       "    </tr>\n",
       "    <tr>\n",
       "      <th>90834</th>\n",
       "      <td>54115824</td>\n",
       "      <td>(2021 CN5)</td>\n",
       "      <td>0.007321</td>\n",
       "      <td>0.016370</td>\n",
       "      <td>69199.154484</td>\n",
       "      <td>6.869206e+07</td>\n",
       "      <td>Earth</td>\n",
       "      <td>False</td>\n",
       "      <td>27.80</td>\n",
       "      <td>False</td>\n",
       "    </tr>\n",
       "    <tr>\n",
       "      <th>90835</th>\n",
       "      <td>54205447</td>\n",
       "      <td>(2021 TW7)</td>\n",
       "      <td>0.039862</td>\n",
       "      <td>0.089133</td>\n",
       "      <td>27024.455553</td>\n",
       "      <td>5.977213e+07</td>\n",
       "      <td>Earth</td>\n",
       "      <td>False</td>\n",
       "      <td>24.12</td>\n",
       "      <td>False</td>\n",
       "    </tr>\n",
       "  </tbody>\n",
       "</table>\n",
       "<p>90836 rows × 10 columns</p>\n",
       "</div>"
      ],
      "text/plain": [
       "             id                 name  est_diameter_min  est_diameter_max  \\\n",
       "0       2162635  162635 (2000 SS164)          1.198271          2.679415   \n",
       "1       2277475    277475 (2005 WK4)          0.265800          0.594347   \n",
       "2       2512244   512244 (2015 YE18)          0.722030          1.614507   \n",
       "3       3596030          (2012 BV13)          0.096506          0.215794   \n",
       "4       3667127          (2014 GE35)          0.255009          0.570217   \n",
       "...         ...                  ...               ...               ...   \n",
       "90831   3763337           (2016 VX1)          0.026580          0.059435   \n",
       "90832   3837603           (2019 AD3)          0.016771          0.037501   \n",
       "90833  54017201           (2020 JP3)          0.031956          0.071456   \n",
       "90834  54115824           (2021 CN5)          0.007321          0.016370   \n",
       "90835  54205447           (2021 TW7)          0.039862          0.089133   \n",
       "\n",
       "       relative_velocity  miss_distance orbiting_body  sentry_object  \\\n",
       "0           13569.249224   5.483974e+07         Earth          False   \n",
       "1           73588.726663   6.143813e+07         Earth          False   \n",
       "2          114258.692129   4.979872e+07         Earth          False   \n",
       "3           24764.303138   2.543497e+07         Earth          False   \n",
       "4           42737.733765   4.627557e+07         Earth          False   \n",
       "...                  ...            ...           ...            ...   \n",
       "90831       52078.886692   1.230039e+07         Earth          False   \n",
       "90832       46114.605073   5.432121e+07         Earth          False   \n",
       "90833        7566.807732   2.840077e+07         Earth          False   \n",
       "90834       69199.154484   6.869206e+07         Earth          False   \n",
       "90835       27024.455553   5.977213e+07         Earth          False   \n",
       "\n",
       "       absolute_magnitude  hazardous  \n",
       "0                   16.73      False  \n",
       "1                   20.00       True  \n",
       "2                   17.83      False  \n",
       "3                   22.20      False  \n",
       "4                   20.09       True  \n",
       "...                   ...        ...  \n",
       "90831               25.00      False  \n",
       "90832               26.00      False  \n",
       "90833               24.60      False  \n",
       "90834               27.80      False  \n",
       "90835               24.12      False  \n",
       "\n",
       "[90836 rows x 10 columns]"
      ]
     },
     "execution_count": 16,
     "metadata": {},
     "output_type": "execute_result"
    }
   ],
   "source": [
    "df"
   ]
  },
  {
   "cell_type": "code",
   "execution_count": 17,
   "id": "d72571ee",
   "metadata": {},
   "outputs": [
    {
     "data": {
      "text/plain": [
       "2469219     43\n",
       "2277810     43\n",
       "3743123     40\n",
       "2138175     39\n",
       "3893865     38\n",
       "            ..\n",
       "3844017      2\n",
       "54054566     2\n",
       "54244193     2\n",
       "3716436      2\n",
       "54192757     2\n",
       "Name: id, Length: 15902, dtype: int64"
      ]
     },
     "execution_count": 17,
     "metadata": {},
     "output_type": "execute_result"
    }
   ],
   "source": [
    "q = df['id'].value_counts()\n",
    "w =q[q>1]\n",
    "w"
   ]
  },
  {
   "cell_type": "code",
   "execution_count": 18,
   "id": "d7d088c8",
   "metadata": {},
   "outputs": [
    {
     "data": {
      "text/html": [
       "<div>\n",
       "<style scoped>\n",
       "    .dataframe tbody tr th:only-of-type {\n",
       "        vertical-align: middle;\n",
       "    }\n",
       "\n",
       "    .dataframe tbody tr th {\n",
       "        vertical-align: top;\n",
       "    }\n",
       "\n",
       "    .dataframe thead th {\n",
       "        text-align: right;\n",
       "    }\n",
       "</style>\n",
       "<table border=\"1\" class=\"dataframe\">\n",
       "  <thead>\n",
       "    <tr style=\"text-align: right;\">\n",
       "      <th></th>\n",
       "      <th>id</th>\n",
       "      <th>name</th>\n",
       "      <th>est_diameter_min</th>\n",
       "      <th>relative_velocity</th>\n",
       "      <th>miss_distance</th>\n",
       "      <th>absolute_magnitude</th>\n",
       "      <th>hazardous</th>\n",
       "    </tr>\n",
       "  </thead>\n",
       "  <tbody>\n",
       "    <tr>\n",
       "      <th>0</th>\n",
       "      <td>2162635</td>\n",
       "      <td>162635 (2000 SS164)</td>\n",
       "      <td>1.198271</td>\n",
       "      <td>13569.249224</td>\n",
       "      <td>5.483974e+07</td>\n",
       "      <td>16.73</td>\n",
       "      <td>False</td>\n",
       "    </tr>\n",
       "    <tr>\n",
       "      <th>1</th>\n",
       "      <td>2277475</td>\n",
       "      <td>277475 (2005 WK4)</td>\n",
       "      <td>0.265800</td>\n",
       "      <td>73588.726663</td>\n",
       "      <td>6.143813e+07</td>\n",
       "      <td>20.00</td>\n",
       "      <td>True</td>\n",
       "    </tr>\n",
       "    <tr>\n",
       "      <th>2</th>\n",
       "      <td>2512244</td>\n",
       "      <td>512244 (2015 YE18)</td>\n",
       "      <td>0.722030</td>\n",
       "      <td>114258.692129</td>\n",
       "      <td>4.979872e+07</td>\n",
       "      <td>17.83</td>\n",
       "      <td>False</td>\n",
       "    </tr>\n",
       "    <tr>\n",
       "      <th>3</th>\n",
       "      <td>3596030</td>\n",
       "      <td>(2012 BV13)</td>\n",
       "      <td>0.096506</td>\n",
       "      <td>24764.303138</td>\n",
       "      <td>2.543497e+07</td>\n",
       "      <td>22.20</td>\n",
       "      <td>False</td>\n",
       "    </tr>\n",
       "    <tr>\n",
       "      <th>4</th>\n",
       "      <td>3667127</td>\n",
       "      <td>(2014 GE35)</td>\n",
       "      <td>0.255009</td>\n",
       "      <td>42737.733765</td>\n",
       "      <td>4.627557e+07</td>\n",
       "      <td>20.09</td>\n",
       "      <td>True</td>\n",
       "    </tr>\n",
       "  </tbody>\n",
       "</table>\n",
       "</div>"
      ],
      "text/plain": [
       "        id                 name  est_diameter_min  relative_velocity  \\\n",
       "0  2162635  162635 (2000 SS164)          1.198271       13569.249224   \n",
       "1  2277475    277475 (2005 WK4)          0.265800       73588.726663   \n",
       "2  2512244   512244 (2015 YE18)          0.722030      114258.692129   \n",
       "3  3596030          (2012 BV13)          0.096506       24764.303138   \n",
       "4  3667127          (2014 GE35)          0.255009       42737.733765   \n",
       "\n",
       "   miss_distance  absolute_magnitude  hazardous  \n",
       "0   5.483974e+07               16.73      False  \n",
       "1   6.143813e+07               20.00       True  \n",
       "2   4.979872e+07               17.83      False  \n",
       "3   2.543497e+07               22.20      False  \n",
       "4   4.627557e+07               20.09       True  "
      ]
     },
     "execution_count": 18,
     "metadata": {},
     "output_type": "execute_result"
    }
   ],
   "source": [
    "df.drop([\"orbiting_body\",\"sentry_object\", 'est_diameter_max'],axis=1,inplace=True)\n",
    "df.head()"
   ]
  },
  {
   "cell_type": "code",
   "execution_count": 19,
   "id": "a3c28f70",
   "metadata": {},
   "outputs": [
    {
     "name": "stderr",
     "output_type": "stream",
     "text": [
      "/var/folders/j7/gf67sfkx7vd_rgkjfr1qm7tw0000gp/T/ipykernel_4698/1240462077.py:8: UserWarning: \n",
      "\n",
      "`distplot` is a deprecated function and will be removed in seaborn v0.14.0.\n",
      "\n",
      "Please adapt your code to use either `displot` (a figure-level function with\n",
      "similar flexibility) or `histplot` (an axes-level function for histograms).\n",
      "\n",
      "For a guide to updating your code to use the new functions, please see\n",
      "https://gist.github.com/mwaskom/de44147ed2974457ad6372750bbe5751\n",
      "\n",
      "  sns.distplot(df[i])\n",
      "/var/folders/j7/gf67sfkx7vd_rgkjfr1qm7tw0000gp/T/ipykernel_4698/1240462077.py:8: UserWarning: \n",
      "\n",
      "`distplot` is a deprecated function and will be removed in seaborn v0.14.0.\n",
      "\n",
      "Please adapt your code to use either `displot` (a figure-level function with\n",
      "similar flexibility) or `histplot` (an axes-level function for histograms).\n",
      "\n",
      "For a guide to updating your code to use the new functions, please see\n",
      "https://gist.github.com/mwaskom/de44147ed2974457ad6372750bbe5751\n",
      "\n",
      "  sns.distplot(df[i])\n",
      "/var/folders/j7/gf67sfkx7vd_rgkjfr1qm7tw0000gp/T/ipykernel_4698/1240462077.py:8: UserWarning: \n",
      "\n",
      "`distplot` is a deprecated function and will be removed in seaborn v0.14.0.\n",
      "\n",
      "Please adapt your code to use either `displot` (a figure-level function with\n",
      "similar flexibility) or `histplot` (an axes-level function for histograms).\n",
      "\n",
      "For a guide to updating your code to use the new functions, please see\n",
      "https://gist.github.com/mwaskom/de44147ed2974457ad6372750bbe5751\n",
      "\n",
      "  sns.distplot(df[i])\n",
      "/var/folders/j7/gf67sfkx7vd_rgkjfr1qm7tw0000gp/T/ipykernel_4698/1240462077.py:8: UserWarning: \n",
      "\n",
      "`distplot` is a deprecated function and will be removed in seaborn v0.14.0.\n",
      "\n",
      "Please adapt your code to use either `displot` (a figure-level function with\n",
      "similar flexibility) or `histplot` (an axes-level function for histograms).\n",
      "\n",
      "For a guide to updating your code to use the new functions, please see\n",
      "https://gist.github.com/mwaskom/de44147ed2974457ad6372750bbe5751\n",
      "\n",
      "  sns.distplot(df[i])\n"
     ]
    },
    {
     "data": {
      "image/png": "[encoded data removed]",
      "text/plain": [
       "<Figure size 1000x600 with 4 Axes>"
      ]
     },
     "metadata": {},
     "output_type": "display_data"
    }
   ],
   "source": [
    "nums = [\"est_diameter_min\",\"relative_velocity\",\"miss_distance\",\"absolute_magnitude\"]\n",
    "rows=2\n",
    "cols=3\n",
    "counter=1\n",
    "plt.rcParams['figure.figsize']=[10,6]\n",
    "for i in nums:\n",
    "    plt.subplot(rows,cols,counter)\n",
    "    sns.distplot(df[i])\n",
    "    counter+=1\n",
    "plt.tight_layout()\n",
    "plt.show()"
   ]
  },
  {
   "cell_type": "code",
   "execution_count": 22,
   "id": "7fae6f32",
   "metadata": {},
   "outputs": [
    {
     "data": {
      "text/plain": [
       "False    81996\n",
       "True      8840\n",
       "Name: hazardous, dtype: int64"
      ]
     },
     "execution_count": 22,
     "metadata": {},
     "output_type": "execute_result"
    }
   ],
   "source": [
    "df[\"hazardous\"].value_counts()"
   ]
  },
  {
   "cell_type": "code",
   "execution_count": 23,
   "id": "f2b59de1",
   "metadata": {},
   "outputs": [
    {
     "data": {
      "image/png": "[encoded data removed]",
      "text/plain": [
       "<Figure size 1000x600 with 1 Axes>"
      ]
     },
     "metadata": {},
     "output_type": "display_data"
    }
   ],
   "source": [
    "sns.countplot(x='hazardous',data=df)\n",
    "plt.show()"
   ]
  },
  {
   "cell_type": "code",
   "execution_count": 25,
   "id": "ade4997f",
   "metadata": {},
   "outputs": [
    {
     "data": {
      "text/plain": [
       "Index(['id', 'name', 'est_diameter_min', 'relative_velocity', 'miss_distance',\n",
       "       'absolute_magnitude', 'hazardous'],\n",
       "      dtype='object')"
      ]
     },
     "execution_count": 25,
     "metadata": {},
     "output_type": "execute_result"
    }
   ],
   "source": [
    "df.columns"
   ]
  },
  {
   "cell_type": "code",
   "execution_count": 39,
   "id": "c46c6339",
   "metadata": {},
   "outputs": [
    {
     "data": {
      "text/plain": [
       "0        False\n",
       "1         True\n",
       "2        False\n",
       "3        False\n",
       "4         True\n",
       "         ...  \n",
       "90831    False\n",
       "90832    False\n",
       "90833    False\n",
       "90834    False\n",
       "90835    False\n",
       "Name: hazardous, Length: 90836, dtype: bool"
      ]
     },
     "execution_count": 39,
     "metadata": {},
     "output_type": "execute_result"
    }
   ],
   "source": [
    "y =df['hazardous']\n",
    "y"
   ]
  },
  {
   "cell_type": "code",
   "execution_count": 40,
   "id": "ee9c670d",
   "metadata": {},
   "outputs": [
    {
     "name": "stderr",
     "output_type": "stream",
     "text": [
      "/var/folders/j7/gf67sfkx7vd_rgkjfr1qm7tw0000gp/T/ipykernel_4698/363827394.py:1: FutureWarning: The default value of numeric_only in DataFrame.corr is deprecated. In a future version, it will default to False. Select only valid columns or specify the value of numeric_only to silence this warning.\n",
      "  corr_matrix=df.corr()\n"
     ]
    },
    {
     "data": {
      "text/html": [
       "<div>\n",
       "<style scoped>\n",
       "    .dataframe tbody tr th:only-of-type {\n",
       "        vertical-align: middle;\n",
       "    }\n",
       "\n",
       "    .dataframe tbody tr th {\n",
       "        vertical-align: top;\n",
       "    }\n",
       "\n",
       "    .dataframe thead th {\n",
       "        text-align: right;\n",
       "    }\n",
       "</style>\n",
       "<table border=\"1\" class=\"dataframe\">\n",
       "  <thead>\n",
       "    <tr style=\"text-align: right;\">\n",
       "      <th></th>\n",
       "      <th>id</th>\n",
       "      <th>est_diameter_min</th>\n",
       "      <th>relative_velocity</th>\n",
       "      <th>miss_distance</th>\n",
       "      <th>absolute_magnitude</th>\n",
       "      <th>hazardous</th>\n",
       "    </tr>\n",
       "  </thead>\n",
       "  <tbody>\n",
       "    <tr>\n",
       "      <th>id</th>\n",
       "      <td>1.000000</td>\n",
       "      <td>-0.148322</td>\n",
       "      <td>-0.059176</td>\n",
       "      <td>-0.056510</td>\n",
       "      <td>0.277258</td>\n",
       "      <td>-0.123443</td>\n",
       "    </tr>\n",
       "    <tr>\n",
       "      <th>est_diameter_min</th>\n",
       "      <td>-0.148322</td>\n",
       "      <td>1.000000</td>\n",
       "      <td>0.221553</td>\n",
       "      <td>0.142241</td>\n",
       "      <td>-0.560188</td>\n",
       "      <td>0.183363</td>\n",
       "    </tr>\n",
       "    <tr>\n",
       "      <th>relative_velocity</th>\n",
       "      <td>-0.059176</td>\n",
       "      <td>0.221553</td>\n",
       "      <td>1.000000</td>\n",
       "      <td>0.327169</td>\n",
       "      <td>-0.353863</td>\n",
       "      <td>0.191185</td>\n",
       "    </tr>\n",
       "    <tr>\n",
       "      <th>miss_distance</th>\n",
       "      <td>-0.056510</td>\n",
       "      <td>0.142241</td>\n",
       "      <td>0.327169</td>\n",
       "      <td>1.000000</td>\n",
       "      <td>-0.264168</td>\n",
       "      <td>0.042302</td>\n",
       "    </tr>\n",
       "    <tr>\n",
       "      <th>absolute_magnitude</th>\n",
       "      <td>0.277258</td>\n",
       "      <td>-0.560188</td>\n",
       "      <td>-0.353863</td>\n",
       "      <td>-0.264168</td>\n",
       "      <td>1.000000</td>\n",
       "      <td>-0.365267</td>\n",
       "    </tr>\n",
       "    <tr>\n",
       "      <th>hazardous</th>\n",
       "      <td>-0.123443</td>\n",
       "      <td>0.183363</td>\n",
       "      <td>0.191185</td>\n",
       "      <td>0.042302</td>\n",
       "      <td>-0.365267</td>\n",
       "      <td>1.000000</td>\n",
       "    </tr>\n",
       "  </tbody>\n",
       "</table>\n",
       "</div>"
      ],
      "text/plain": [
       "                          id  est_diameter_min  relative_velocity  \\\n",
       "id                  1.000000         -0.148322          -0.059176   \n",
       "est_diameter_min   -0.148322          1.000000           0.221553   \n",
       "relative_velocity  -0.059176          0.221553           1.000000   \n",
       "miss_distance      -0.056510          0.142241           0.327169   \n",
       "absolute_magnitude  0.277258         -0.560188          -0.353863   \n",
       "hazardous          -0.123443          0.183363           0.191185   \n",
       "\n",
       "                    miss_distance  absolute_magnitude  hazardous  \n",
       "id                      -0.056510            0.277258  -0.123443  \n",
       "est_diameter_min         0.142241           -0.560188   0.183363  \n",
       "relative_velocity        0.327169           -0.353863   0.191185  \n",
       "miss_distance            1.000000           -0.264168   0.042302  \n",
       "absolute_magnitude      -0.264168            1.000000  -0.365267  \n",
       "hazardous                0.042302           -0.365267   1.000000  "
      ]
     },
     "execution_count": 40,
     "metadata": {},
     "output_type": "execute_result"
    }
   ],
   "source": [
    "corr_matrix=df.corr()\n",
    "corr_matrix"
   ]
  },
  {
   "cell_type": "code",
   "execution_count": 41,
   "id": "0ef37d8c",
   "metadata": {},
   "outputs": [
    {
     "data": {
      "text/plain": [
       "miss_distance         0.042302\n",
       "id                    0.123443\n",
       "est_diameter_min      0.183363\n",
       "relative_velocity     0.191185\n",
       "absolute_magnitude    0.365267\n",
       "hazardous             1.000000\n",
       "Name: hazardous, dtype: float64"
      ]
     },
     "execution_count": 41,
     "metadata": {},
     "output_type": "execute_result"
    }
   ],
   "source": [
    "corr_hazardous = corr_matrix['hazardous']\n",
    "np.abs(corr_hazardous).sort_values()"
   ]
  },
  {
   "cell_type": "code",
   "execution_count": 29,
   "id": "d6b93c15",
   "metadata": {},
   "outputs": [
    {
     "name": "stderr",
     "output_type": "stream",
     "text": [
      "/var/folders/j7/gf67sfkx7vd_rgkjfr1qm7tw0000gp/T/ipykernel_4698/2690646319.py:1: FutureWarning: The default value of numeric_only in DataFrame.corr is deprecated. In a future version, it will default to False. Select only valid columns or specify the value of numeric_only to silence this warning.\n",
      "  sns.heatmap(df.corr(),vmin=-1,vmax=1,cmap='YlGnBu', annot=True)\n"
     ]
    },
    {
     "data": {
      "image/png": "[encoded data removed]",
      "text/plain": [
       "<Figure size 1000x600 with 2 Axes>"
      ]
     },
     "metadata": {},
     "output_type": "display_data"
    }
   ],
   "source": [
    "sns.heatmap(df.corr(),vmin=-1,vmax=1,cmap='YlGnBu', annot=True)\n",
    "plt.show()"
   ]
  },
  {
   "cell_type": "code",
   "execution_count": 42,
   "id": "75bc98f8",
   "metadata": {},
   "outputs": [
    {
     "data": {
      "text/html": [
       "<div>\n",
       "<style scoped>\n",
       "    .dataframe tbody tr th:only-of-type {\n",
       "        vertical-align: middle;\n",
       "    }\n",
       "\n",
       "    .dataframe tbody tr th {\n",
       "        vertical-align: top;\n",
       "    }\n",
       "\n",
       "    .dataframe thead th {\n",
       "        text-align: right;\n",
       "    }\n",
       "</style>\n",
       "<table border=\"1\" class=\"dataframe\">\n",
       "  <thead>\n",
       "    <tr style=\"text-align: right;\">\n",
       "      <th></th>\n",
       "      <th>est_diameter_min</th>\n",
       "      <th>relative_velocity</th>\n",
       "      <th>miss_distance</th>\n",
       "      <th>absolute_magnitude</th>\n",
       "    </tr>\n",
       "  </thead>\n",
       "  <tbody>\n",
       "    <tr>\n",
       "      <th>0</th>\n",
       "      <td>1.198271</td>\n",
       "      <td>13569.249224</td>\n",
       "      <td>5.483974e+07</td>\n",
       "      <td>16.73</td>\n",
       "    </tr>\n",
       "    <tr>\n",
       "      <th>1</th>\n",
       "      <td>0.265800</td>\n",
       "      <td>73588.726663</td>\n",
       "      <td>6.143813e+07</td>\n",
       "      <td>20.00</td>\n",
       "    </tr>\n",
       "    <tr>\n",
       "      <th>2</th>\n",
       "      <td>0.722030</td>\n",
       "      <td>114258.692129</td>\n",
       "      <td>4.979872e+07</td>\n",
       "      <td>17.83</td>\n",
       "    </tr>\n",
       "    <tr>\n",
       "      <th>3</th>\n",
       "      <td>0.096506</td>\n",
       "      <td>24764.303138</td>\n",
       "      <td>2.543497e+07</td>\n",
       "      <td>22.20</td>\n",
       "    </tr>\n",
       "    <tr>\n",
       "      <th>4</th>\n",
       "      <td>0.255009</td>\n",
       "      <td>42737.733765</td>\n",
       "      <td>4.627557e+07</td>\n",
       "      <td>20.09</td>\n",
       "    </tr>\n",
       "    <tr>\n",
       "      <th>...</th>\n",
       "      <td>...</td>\n",
       "      <td>...</td>\n",
       "      <td>...</td>\n",
       "      <td>...</td>\n",
       "    </tr>\n",
       "    <tr>\n",
       "      <th>90831</th>\n",
       "      <td>0.026580</td>\n",
       "      <td>52078.886692</td>\n",
       "      <td>1.230039e+07</td>\n",
       "      <td>25.00</td>\n",
       "    </tr>\n",
       "    <tr>\n",
       "      <th>90832</th>\n",
       "      <td>0.016771</td>\n",
       "      <td>46114.605073</td>\n",
       "      <td>5.432121e+07</td>\n",
       "      <td>26.00</td>\n",
       "    </tr>\n",
       "    <tr>\n",
       "      <th>90833</th>\n",
       "      <td>0.031956</td>\n",
       "      <td>7566.807732</td>\n",
       "      <td>2.840077e+07</td>\n",
       "      <td>24.60</td>\n",
       "    </tr>\n",
       "    <tr>\n",
       "      <th>90834</th>\n",
       "      <td>0.007321</td>\n",
       "      <td>69199.154484</td>\n",
       "      <td>6.869206e+07</td>\n",
       "      <td>27.80</td>\n",
       "    </tr>\n",
       "    <tr>\n",
       "      <th>90835</th>\n",
       "      <td>0.039862</td>\n",
       "      <td>27024.455553</td>\n",
       "      <td>5.977213e+07</td>\n",
       "      <td>24.12</td>\n",
       "    </tr>\n",
       "  </tbody>\n",
       "</table>\n",
       "<p>90836 rows × 4 columns</p>\n",
       "</div>"
      ],
      "text/plain": [
       "       est_diameter_min  relative_velocity  miss_distance  absolute_magnitude\n",
       "0              1.198271       13569.249224   5.483974e+07               16.73\n",
       "1              0.265800       73588.726663   6.143813e+07               20.00\n",
       "2              0.722030      114258.692129   4.979872e+07               17.83\n",
       "3              0.096506       24764.303138   2.543497e+07               22.20\n",
       "4              0.255009       42737.733765   4.627557e+07               20.09\n",
       "...                 ...                ...            ...                 ...\n",
       "90831          0.026580       52078.886692   1.230039e+07               25.00\n",
       "90832          0.016771       46114.605073   5.432121e+07               26.00\n",
       "90833          0.031956        7566.807732   2.840077e+07               24.60\n",
       "90834          0.007321       69199.154484   6.869206e+07               27.80\n",
       "90835          0.039862       27024.455553   5.977213e+07               24.12\n",
       "\n",
       "[90836 rows x 4 columns]"
      ]
     },
     "execution_count": 42,
     "metadata": {},
     "output_type": "execute_result"
    }
   ],
   "source": [
    "features = ['est_diameter_min',\n",
    "       'relative_velocity', 'miss_distance',\n",
    "       'absolute_magnitude']\n",
    "\n",
    "X = df[features]\n",
    "X"
   ]
  },
  {
   "attachments": {},
   "cell_type": "markdown",
   "id": "f2f3c274",
   "metadata": {},
   "source": [
    "### ENCODING"
   ]
  },
  {
   "cell_type": "code",
   "execution_count": 43,
   "id": "42ba2e60",
   "metadata": {},
   "outputs": [],
   "source": [
    "label=LabelEncoder()\n",
    "y=label.fit_transform(y)"
   ]
  },
  {
   "attachments": {},
   "cell_type": "markdown",
   "id": "1bd42e09",
   "metadata": {},
   "source": [
    "### Dzielimy zbiór"
   ]
  },
  {
   "cell_type": "code",
   "execution_count": 44,
   "id": "62d2c16d",
   "metadata": {},
   "outputs": [],
   "source": [
    "train_X, test_X, train_y, test_y = train_test_split(X, y, test_size=0.25, random_state=123)"
   ]
  },
  {
   "attachments": {},
   "cell_type": "markdown",
   "id": "98bec4f5",
   "metadata": {},
   "source": [
    "#### Nie dokonujemy standaryzacji dla drzew decyzyjnych \n",
    "sc=StandardScaler()\n",
    "X_train_scaled=pd.DataFrame(sc.fit_transform(train_X))\n",
    "X_test_scaled=pd.DataFrame(sc.transform(test_X))"
   ]
  },
  {
   "attachments": {},
   "cell_type": "markdown",
   "id": "2773658b",
   "metadata": {},
   "source": [
    "### Tworzymy drzewo z przykładowymi parametrami "
   ]
  },
  {
   "cell_type": "code",
   "execution_count": 45,
   "id": "66adc746",
   "metadata": {},
   "outputs": [
    {
     "data": {
      "text/html": [
       "<style>#sk-container-id-2 {color: black;background-color: white;}#sk-container-id-2 pre{padding: 0;}#sk-container-id-2 div.sk-toggleable {background-color: white;}#sk-container-id-2 label.sk-toggleable__label {cursor: pointer;display: block;width: 100%;margin-bottom: 0;padding: 0.3em;box-sizing: border-box;text-align: center;}#sk-container-id-2 label.sk-toggleable__label-arrow:before {content: \"▸\";float: left;margin-right: 0.25em;color: #696969;}#sk-container-id-2 label.sk-toggleable__label-arrow:hover:before {color: black;}#sk-container-id-2 div.sk-estimator:hover label.sk-toggleable__label-arrow:before {color: black;}#sk-container-id-2 div.sk-toggleable__content {max-height: 0;max-width: 0;overflow: hidden;text-align: left;background-color: #f0f8ff;}#sk-container-id-2 div.sk-toggleable__content pre {margin: 0.2em;color: black;border-radius: 0.25em;background-color: #f0f8ff;}#sk-container-id-2 input.sk-toggleable__control:checked~div.sk-toggleable__content {max-height: 200px;max-width: 100%;overflow: auto;}#sk-container-id-2 input.sk-toggleable__control:checked~label.sk-toggleable__label-arrow:before {content: \"▾\";}#sk-container-id-2 div.sk-estimator input.sk-toggleable__control:checked~label.sk-toggleable__label {background-color: #d4ebff;}#sk-container-id-2 div.sk-label input.sk-toggleable__control:checked~label.sk-toggleable__label {background-color: #d4ebff;}#sk-container-id-2 input.sk-hidden--visually {border: 0;clip: rect(1px 1px 1px 1px);clip: rect(1px, 1px, 1px, 1px);height: 1px;margin: -1px;overflow: hidden;padding: 0;position: absolute;width: 1px;}#sk-container-id-2 div.sk-estimator {font-family: monospace;background-color: #f0f8ff;border: 1px dotted black;border-radius: 0.25em;box-sizing: border-box;margin-bottom: 0.5em;}#sk-container-id-2 div.sk-estimator:hover {background-color: #d4ebff;}#sk-container-id-2 div.sk-parallel-item::after {content: \"\";width: 100%;border-bottom: 1px solid gray;flex-grow: 1;}#sk-container-id-2 div.sk-label:hover label.sk-toggleable__label {background-color: #d4ebff;}#sk-container-id-2 div.sk-serial::before {content: \"\";position: absolute;border-left: 1px solid gray;box-sizing: border-box;top: 0;bottom: 0;left: 50%;z-index: 0;}#sk-container-id-2 div.sk-serial {display: flex;flex-direction: column;align-items: center;background-color: white;padding-right: 0.2em;padding-left: 0.2em;position: relative;}#sk-container-id-2 div.sk-item {position: relative;z-index: 1;}#sk-container-id-2 div.sk-parallel {display: flex;align-items: stretch;justify-content: center;background-color: white;position: relative;}#sk-container-id-2 div.sk-item::before, #sk-container-id-2 div.sk-parallel-item::before {content: \"\";position: absolute;border-left: 1px solid gray;box-sizing: border-box;top: 0;bottom: 0;left: 50%;z-index: -1;}#sk-container-id-2 div.sk-parallel-item {display: flex;flex-direction: column;z-index: 1;position: relative;background-color: white;}#sk-container-id-2 div.sk-parallel-item:first-child::after {align-self: flex-end;width: 50%;}#sk-container-id-2 div.sk-parallel-item:last-child::after {align-self: flex-start;width: 50%;}#sk-container-id-2 div.sk-parallel-item:only-child::after {width: 0;}#sk-container-id-2 div.sk-dashed-wrapped {border: 1px dashed gray;margin: 0 0.4em 0.5em 0.4em;box-sizing: border-box;padding-bottom: 0.4em;background-color: white;}#sk-container-id-2 div.sk-label label {font-family: monospace;font-weight: bold;display: inline-block;line-height: 1.2em;}#sk-container-id-2 div.sk-label-container {text-align: center;}#sk-container-id-2 div.sk-container {/* jupyter's `normalize.less` sets `[hidden] { display: none; }` but bootstrap.min.css set `[hidden] { display: none !important; }` so we also need the `!important` here to be able to override the default hidden behavior on the sphinx rendered scikit-learn.org. See: https://github.com/scikit-learn/scikit-learn/issues/21755 */display: inline-block !important;position: relative;}#sk-container-id-2 div.sk-text-repr-fallback {display: none;}</style><div id=\"sk-container-id-2\" class=\"sk-top-container\"><div class=\"sk-text-repr-fallback\"><pre>DecisionTreeClassifier(criterion=&#x27;entropy&#x27;, max_depth=30, min_samples_leaf=5,\n",
       "                       min_samples_split=5, random_state=123)</pre><b>In a Jupyter environment, please rerun this cell to show the HTML representation or trust the notebook. <br />On GitHub, the HTML representation is unable to render, please try loading this page with nbviewer.org.</b></div><div class=\"sk-container\" hidden><div class=\"sk-item\"><div class=\"sk-estimator sk-toggleable\"><input class=\"sk-toggleable__control sk-hidden--visually\" id=\"sk-estimator-id-2\" type=\"checkbox\" checked><label for=\"sk-estimator-id-2\" class=\"sk-toggleable__label sk-toggleable__label-arrow\">DecisionTreeClassifier</label><div class=\"sk-toggleable__content\"><pre>DecisionTreeClassifier(criterion=&#x27;entropy&#x27;, max_depth=30, min_samples_leaf=5,\n",
       "                       min_samples_split=5, random_state=123)</pre></div></div></div></div></div>"
      ],
      "text/plain": [
       "DecisionTreeClassifier(criterion='entropy', max_depth=30, min_samples_leaf=5,\n",
       "                       min_samples_split=5, random_state=123)"
      ]
     },
     "execution_count": 45,
     "metadata": {},
     "output_type": "execute_result"
    }
   ],
   "source": [
    "dt= DecisionTreeClassifier(max_depth=30,min_samples_leaf=5, min_samples_split = 5, random_state=123,criterion = 'entropy' )\n",
    "dt.fit(train_X, train_y)"
   ]
  },
  {
   "cell_type": "code",
   "execution_count": 46,
   "id": "31391196",
   "metadata": {},
   "outputs": [],
   "source": [
    "pred_train = dt.predict(train_X)\n",
    "pred_test = dt.predict(test_X)"
   ]
  },
  {
   "cell_type": "code",
   "execution_count": 47,
   "id": "6b7b7d10",
   "metadata": {},
   "outputs": [
    {
     "name": "stdout",
     "output_type": "stream",
     "text": [
      "              precision    recall  f1-score   support\n",
      "\n",
      "           0       0.96      0.98      0.97     61525\n",
      "           1       0.80      0.64      0.71      6602\n",
      "\n",
      "    accuracy                           0.95     68127\n",
      "   macro avg       0.88      0.81      0.84     68127\n",
      "weighted avg       0.95      0.95      0.95     68127\n",
      "\n"
     ]
    }
   ],
   "source": [
    "print(classification_report(train_y,pred_train))"
   ]
  },
  {
   "cell_type": "code",
   "execution_count": 49,
   "id": "c859389f",
   "metadata": {},
   "outputs": [
    {
     "name": "stdout",
     "output_type": "stream",
     "text": [
      "              precision    recall  f1-score   support\n",
      "\n",
      "           0       0.93      0.96      0.94     20471\n",
      "           1       0.48      0.37      0.42      2238\n",
      "\n",
      "    accuracy                           0.90     22709\n",
      "   macro avg       0.71      0.66      0.68     22709\n",
      "weighted avg       0.89      0.90      0.89     22709\n",
      "\n"
     ]
    }
   ],
   "source": [
    "print(classification_report(test_y,pred_test))"
   ]
  },
  {
   "cell_type": "code",
   "execution_count": 50,
   "id": "0930334f",
   "metadata": {},
   "outputs": [
    {
     "data": {
      "text/plain": [
       "<Axes: title={'center': 'Variable Importance for Decision Tree'}>"
      ]
     },
     "execution_count": 50,
     "metadata": {},
     "output_type": "execute_result"
    },
    {
     "data": {
      "image/png": "[encoded data removed]",
      "text/plain": [
       "<Figure size 500x300 with 1 Axes>"
      ]
     },
     "metadata": {},
     "output_type": "display_data"
    }
   ],
   "source": [
    "feat_importances = pd.Series(dt.feature_importances_, index=X.columns)\n",
    "feat_importances.plot(kind='barh', title='Variable Importance for Decision Tree',figsize=[5,3])"
   ]
  },
  {
   "cell_type": "code",
   "execution_count": 51,
   "id": "2e380b2a",
   "metadata": {},
   "outputs": [
    {
     "data": {
      "text/plain": [
       "array([0., 0., 0., ..., 0., 0., 0.])"
      ]
     },
     "execution_count": 51,
     "metadata": {},
     "output_type": "execute_result"
    }
   ],
   "source": [
    "y_pred_proba = dt.predict_proba(test_X)[:,1]\n",
    "y_pred_proba "
   ]
  },
  {
   "cell_type": "code",
   "execution_count": 52,
   "id": "5510b42b",
   "metadata": {},
   "outputs": [
    {
     "name": "stdout",
     "output_type": "stream",
     "text": [
      "0.8175919124283533\n"
     ]
    }
   ],
   "source": [
    "auc = roc_auc_score(test_y, y_pred_proba)\n",
    "print (auc)"
   ]
  },
  {
   "cell_type": "code",
   "execution_count": 53,
   "id": "84f2d1b7",
   "metadata": {},
   "outputs": [],
   "source": [
    "fpr, tpr,_ = roc_curve(test_y, y_pred_proba)"
   ]
  },
  {
   "cell_type": "code",
   "execution_count": 54,
   "id": "a8a9ce68",
   "metadata": {},
   "outputs": [
    {
     "data": {
      "image/png": "[encoded data removed]",
      "text/plain": [
       "<Figure size 1000x600 with 1 Axes>"
      ]
     },
     "metadata": {},
     "output_type": "display_data"
    }
   ],
   "source": [
    "plt.plot(fpr, tpr, label=\"AUC = \" + str(auc))\n",
    "plt.title('Krzywa ROC')\n",
    "plt.xlabel('False Positive Rate')\n",
    "plt.ylabel('Recall')\n",
    "plt.legend()\n",
    "plt.show()"
   ]
  },
  {
   "attachments": {},
   "cell_type": "markdown",
   "id": "ad23e0c3",
   "metadata": {},
   "source": [
    "### Próba z crosvalidation"
   ]
  },
  {
   "cell_type": "code",
   "execution_count": 62,
   "id": "47c8e942",
   "metadata": {},
   "outputs": [
    {
     "name": "stdout",
     "output_type": "stream",
     "text": [
      "Cross Validation Scores:  [0.39487179 0.44002123 0.43498818 0.45189003 0.46218741]\n",
      "Average CV Score:  0.43679172923454523\n",
      "Number of CV Scores used in Average:  5\n"
     ]
    }
   ],
   "source": [
    "clf = DecisionTreeClassifier(random_state=123)\n",
    "\n",
    "sk_folds = StratifiedKFold(n_splits = 5)\n",
    "\n",
    "\n",
    "scores = cross_val_score(clf, X, y, cv = sk_folds, scoring = 'f1')\n",
    "\n",
    "\n",
    "print(\"Cross Validation Scores: \", scores)\n",
    "print(\"Average CV Score: \", scores.mean())\n",
    "print(\"Number of CV Scores used in Average: \", len(scores))\n",
    "\n"
   ]
  },
  {
   "cell_type": "code",
   "execution_count": 86,
   "id": "16060e72",
   "metadata": {},
   "outputs": [
    {
     "name": "stdout",
     "output_type": "stream",
     "text": [
      " f1: \n",
      " [0.39487179 0.44002123 0.43498818 0.45189003 0.46218741]\n",
      "Average CV Score:  0.437\n",
      " accuracy: \n",
      " [0.87010128 0.88385534 0.89475422 0.89464413 0.90174492]\n",
      "Average CV Score:  0.889\n",
      " recall: \n",
      " [0.43552036 0.4688914  0.41628959 0.44626697 0.43382353]\n",
      "Average CV Score:  0.44\n",
      " precision: \n",
      " [0.36116323 0.4145     0.45544554 0.45765661 0.49451966]\n",
      "Average CV Score:  0.437\n"
     ]
    }
   ],
   "source": [
    "clf = DecisionTreeClassifier(random_state=123)\n",
    "\n",
    "sk_folds = StratifiedKFold(n_splits = 5)\n",
    "\n",
    "scoring = ['f1', 'accuracy', 'recall', 'precision']\n",
    "\n",
    "for i in scoring:\n",
    "    scores = cross_val_score(clf, X, y, cv = sk_folds, scoring = i)\n",
    "    print (f' {i}: \\n {scores}')\n",
    "    print(\"Average CV Score: \", round (scores.mean(),3))\n",
    "\n"
   ]
  },
  {
   "attachments": {},
   "cell_type": "markdown",
   "id": "a0c39866",
   "metadata": {},
   "source": [
    "### OVERSAMPLING ze SMOTE"
   ]
  },
  {
   "cell_type": "code",
   "execution_count": 99,
   "id": "1acb6153",
   "metadata": {},
   "outputs": [],
   "source": [
    "from imblearn.over_sampling import SMOTE\n"
   ]
  },
  {
   "cell_type": "code",
   "execution_count": 100,
   "metadata": {},
   "outputs": [],
   "source": [
    "smote = SMOTE (random_state=123)\n",
    " \n",
    "train_X_smote, train_y_smote = smote.fit_resample(train_X, train_y)"
   ]
  },
  {
   "cell_type": "code",
   "execution_count": 101,
   "id": "857475d0",
   "metadata": {},
   "outputs": [
    {
     "data": {
      "text/plain": [
       "<Axes: >"
      ]
     },
     "execution_count": 101,
     "metadata": {},
     "output_type": "execute_result"
    },
    {
     "data": {
      "image/png": "[encoded data removed]",
      "text/plain": [
       "<Figure size 1000x600 with 1 Axes>"
      ]
     },
     "metadata": {},
     "output_type": "display_data"
    }
   ],
   "source": [
    "\t\n",
    "pd.Series(train_y_smote).value_counts().plot.bar()"
   ]
  },
  {
   "cell_type": "code",
   "execution_count": 107,
   "id": "b2538ccc",
   "metadata": {},
   "outputs": [
    {
     "name": "stdout",
     "output_type": "stream",
     "text": [
      "[{'max_depth': range(1, 40, 2), 'min_samples_leaf': range(3, 50), 'criterion': ['gini', 'entropy']}]\n",
      "{'criterion': 'gini', 'max_depth': 39, 'min_samples_leaf': 14}\n"
     ]
    }
   ],
   "source": [
    "from sklearn.model_selection import GridSearchCV\n",
    "\n",
    "param_grid= [                           \n",
    "              {\n",
    "                'max_depth': range(1, 40, 2),\n",
    "                'min_samples_leaf' : range(3, 50),\n",
    "                'criterion' : [\"gini\", \"entropy\"]\n",
    "                }\n",
    "              ]\n",
    "\n",
    "print(param_grid)\n",
    "\n",
    "model_smote = DecisionTreeClassifier()\n",
    "  \n",
    "grid_smote = GridSearchCV(estimator=model_smote\n",
    "                                 , param_grid=param_grid, scoring=\"f1\")\n",
    " \n",
    "grid_smote.fit(X=train_X_smote, y=train_y_smote)\n",
    " \n",
    "best_parameters_smote = grid_smote.best_params_  \n",
    "print(best_parameters_smote) \n",
    "\n"
   ]
  },
  {
   "cell_type": "code",
   "execution_count": 108,
   "id": "a97c0b00",
   "metadata": {},
   "outputs": [
    {
     "data": {
      "text/html": [
       "<style>#sk-container-id-4 {color: black;background-color: white;}#sk-container-id-4 pre{padding: 0;}#sk-container-id-4 div.sk-toggleable {background-color: white;}#sk-container-id-4 label.sk-toggleable__label {cursor: pointer;display: block;width: 100%;margin-bottom: 0;padding: 0.3em;box-sizing: border-box;text-align: center;}#sk-container-id-4 label.sk-toggleable__label-arrow:before {content: \"▸\";float: left;margin-right: 0.25em;color: #696969;}#sk-container-id-4 label.sk-toggleable__label-arrow:hover:before {color: black;}#sk-container-id-4 div.sk-estimator:hover label.sk-toggleable__label-arrow:before {color: black;}#sk-container-id-4 div.sk-toggleable__content {max-height: 0;max-width: 0;overflow: hidden;text-align: left;background-color: #f0f8ff;}#sk-container-id-4 div.sk-toggleable__content pre {margin: 0.2em;color: black;border-radius: 0.25em;background-color: #f0f8ff;}#sk-container-id-4 input.sk-toggleable__control:checked~div.sk-toggleable__content {max-height: 200px;max-width: 100%;overflow: auto;}#sk-container-id-4 input.sk-toggleable__control:checked~label.sk-toggleable__label-arrow:before {content: \"▾\";}#sk-container-id-4 div.sk-estimator input.sk-toggleable__control:checked~label.sk-toggleable__label {background-color: #d4ebff;}#sk-container-id-4 div.sk-label input.sk-toggleable__control:checked~label.sk-toggleable__label {background-color: #d4ebff;}#sk-container-id-4 input.sk-hidden--visually {border: 0;clip: rect(1px 1px 1px 1px);clip: rect(1px, 1px, 1px, 1px);height: 1px;margin: -1px;overflow: hidden;padding: 0;position: absolute;width: 1px;}#sk-container-id-4 div.sk-estimator {font-family: monospace;background-color: #f0f8ff;border: 1px dotted black;border-radius: 0.25em;box-sizing: border-box;margin-bottom: 0.5em;}#sk-container-id-4 div.sk-estimator:hover {background-color: #d4ebff;}#sk-container-id-4 div.sk-parallel-item::after {content: \"\";width: 100%;border-bottom: 1px solid gray;flex-grow: 1;}#sk-container-id-4 div.sk-label:hover label.sk-toggleable__label {background-color: #d4ebff;}#sk-container-id-4 div.sk-serial::before {content: \"\";position: absolute;border-left: 1px solid gray;box-sizing: border-box;top: 0;bottom: 0;left: 50%;z-index: 0;}#sk-container-id-4 div.sk-serial {display: flex;flex-direction: column;align-items: center;background-color: white;padding-right: 0.2em;padding-left: 0.2em;position: relative;}#sk-container-id-4 div.sk-item {position: relative;z-index: 1;}#sk-container-id-4 div.sk-parallel {display: flex;align-items: stretch;justify-content: center;background-color: white;position: relative;}#sk-container-id-4 div.sk-item::before, #sk-container-id-4 div.sk-parallel-item::before {content: \"\";position: absolute;border-left: 1px solid gray;box-sizing: border-box;top: 0;bottom: 0;left: 50%;z-index: -1;}#sk-container-id-4 div.sk-parallel-item {display: flex;flex-direction: column;z-index: 1;position: relative;background-color: white;}#sk-container-id-4 div.sk-parallel-item:first-child::after {align-self: flex-end;width: 50%;}#sk-container-id-4 div.sk-parallel-item:last-child::after {align-self: flex-start;width: 50%;}#sk-container-id-4 div.sk-parallel-item:only-child::after {width: 0;}#sk-container-id-4 div.sk-dashed-wrapped {border: 1px dashed gray;margin: 0 0.4em 0.5em 0.4em;box-sizing: border-box;padding-bottom: 0.4em;background-color: white;}#sk-container-id-4 div.sk-label label {font-family: monospace;font-weight: bold;display: inline-block;line-height: 1.2em;}#sk-container-id-4 div.sk-label-container {text-align: center;}#sk-container-id-4 div.sk-container {/* jupyter's `normalize.less` sets `[hidden] { display: none; }` but bootstrap.min.css set `[hidden] { display: none !important; }` so we also need the `!important` here to be able to override the default hidden behavior on the sphinx rendered scikit-learn.org. See: https://github.com/scikit-learn/scikit-learn/issues/21755 */display: inline-block !important;position: relative;}#sk-container-id-4 div.sk-text-repr-fallback {display: none;}</style><div id=\"sk-container-id-4\" class=\"sk-top-container\"><div class=\"sk-text-repr-fallback\"><pre>DecisionTreeClassifier(max_depth=39, min_samples_leaf=14)</pre><b>In a Jupyter environment, please rerun this cell to show the HTML representation or trust the notebook. <br />On GitHub, the HTML representation is unable to render, please try loading this page with nbviewer.org.</b></div><div class=\"sk-container\" hidden><div class=\"sk-item\"><div class=\"sk-estimator sk-toggleable\"><input class=\"sk-toggleable__control sk-hidden--visually\" id=\"sk-estimator-id-4\" type=\"checkbox\" checked><label for=\"sk-estimator-id-4\" class=\"sk-toggleable__label sk-toggleable__label-arrow\">DecisionTreeClassifier</label><div class=\"sk-toggleable__content\"><pre>DecisionTreeClassifier(max_depth=39, min_samples_leaf=14)</pre></div></div></div></div></div>"
      ],
      "text/plain": [
       "DecisionTreeClassifier(max_depth=39, min_samples_leaf=14)"
      ]
     },
     "execution_count": 108,
     "metadata": {},
     "output_type": "execute_result"
    }
   ],
   "source": [
    "model_smote = DecisionTreeClassifier(**best_parameters_smote)\n",
    "model_smote.fit(train_X_smote, train_y_smote)"
   ]
  },
  {
   "cell_type": "code",
   "execution_count": 109,
   "id": "ac364fcf",
   "metadata": {},
   "outputs": [
    {
     "name": "stdout",
     "output_type": "stream",
     "text": [
      "              precision    recall  f1-score   support\n",
      "\n",
      "           0       0.94      0.95      0.95     61525\n",
      "           1       0.95      0.94      0.95     61525\n",
      "\n",
      "    accuracy                           0.95    123050\n",
      "   macro avg       0.95      0.95      0.95    123050\n",
      "weighted avg       0.95      0.95      0.95    123050\n",
      "\n"
     ]
    }
   ],
   "source": [
    "y_pred_smote = model_smote.predict(train_X_smote)\n",
    "print(classification_report(train_y_smote, y_pred_smote))"
   ]
  },
  {
   "cell_type": "code",
   "execution_count": 112,
   "id": "7029979b",
   "metadata": {},
   "outputs": [
    {
     "name": "stdout",
     "output_type": "stream",
     "text": [
      "              precision    recall  f1-score   support\n",
      "\n",
      "           0       0.94      0.94      0.94     20471\n",
      "           1       0.46      0.50      0.48      2238\n",
      "\n",
      "    accuracy                           0.89     22709\n",
      "   macro avg       0.70      0.72      0.71     22709\n",
      "weighted avg       0.90      0.89      0.89     22709\n",
      "\n",
      "Accuracy Score:  0.892949931745123\n",
      "Balanced_accuracy Score:  0.7163627558486473\n",
      "Confusion Matrix: \n",
      " [[19167  1304]\n",
      " [ 1127  1111]]\n"
     ]
    }
   ],
   "source": [
    "y_pred_smote2 = model_smote.predict(test_X)\n",
    "print(classification_report(test_y, y_pred_smote2))\n",
    "print('Accuracy Score: ', accuracy_score(test_y, y_pred_smote2))\n",
    "print('Balanced_accuracy Score: ', balanced_accuracy_score(test_y, y_pred_smote2))\n",
    "print('Confusion Matrix: \\n', confusion_matrix(test_y, y_pred_smote2))"
   ]
  },
  {
   "cell_type": "code",
   "execution_count": 114,
   "id": "d3fa83cc",
   "metadata": {},
   "outputs": [
    {
     "name": "stdout",
     "output_type": "stream",
     "text": [
      "              precision    recall  f1-score   support\n",
      "\n",
      "           0       0.93      0.96      0.94     20471\n",
      "           1       0.48      0.37      0.42      2238\n",
      "\n",
      "    accuracy                           0.90     22709\n",
      "   macro avg       0.71      0.66      0.68     22709\n",
      "weighted avg       0.89      0.90      0.89     22709\n",
      "\n",
      "Accuracy Score:  0.8984103218988067\n",
      "Balanced_accuracy Score:  0.6630775531147639\n",
      "Confusion Matrix: \n",
      " [[19574   897]\n",
      " [ 1410   828]]\n"
     ]
    }
   ],
   "source": [
    "print(classification_report(test_y, pred_test))\n",
    "print('Accuracy Score: ', accuracy_score(test_y, pred_test))\n",
    "print('Balanced_accuracy Score: ', balanced_accuracy_score(test_y, pred_test))\n",
    "print('Confusion Matrix: \\n', confusion_matrix(test_y, pred_test))"
   ]
  }
 ],
 "metadata": {
  "kernelspec": {
   "display_name": "Python 3 (ipykernel)",
   "language": "python",
   "name": "python3"
  },
  "language_info": {
   "codemirror_mode": {
    "name": "ipython",
    "version": 3
   },
   "file_extension": ".py",
   "mimetype": "text/x-python",
   "name": "python",
   "nbconvert_exporter": "python",
   "pygments_lexer": "ipython3",
   "version": "3.8.2"
  }
 },
 "nbformat": 4,
 "nbformat_minor": 5
}
