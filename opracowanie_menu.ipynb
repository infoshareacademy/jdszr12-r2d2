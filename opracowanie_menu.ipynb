{
 "cells": [
  {
   "cell_type": "code",
   "execution_count": 4,
   "id": "b3133097",
   "metadata": {},
   "outputs": [],
   "source": [
    "import folium\n",
    "import re"
   ]
  },
  {
   "cell_type": "code",
   "execution_count": 5,
   "id": "2b628fd0",
   "metadata": {},
   "outputs": [],
   "source": [
    "import pandas as pd\n",
    "\n",
    "rest = pd.read_csv(r\"C:\\Users\\JOLA\\Desktop\\Restaurant\\archive\\restaurants.csv\")\n",
    "menu = pd.read_csv(r'C:\\Users\\JOLA\\Desktop\\Restaurant\\archive\\restaurant-menus.csv')"
   ]
  },
  {
   "cell_type": "code",
   "execution_count": 6,
   "id": "7b1e095b",
   "metadata": {},
   "outputs": [
    {
     "data": {
      "text/html": [
       "<div>\n",
       "<style scoped>\n",
       "    .dataframe tbody tr th:only-of-type {\n",
       "        vertical-align: middle;\n",
       "    }\n",
       "\n",
       "    .dataframe tbody tr th {\n",
       "        vertical-align: top;\n",
       "    }\n",
       "\n",
       "    .dataframe thead th {\n",
       "        text-align: right;\n",
       "    }\n",
       "</style>\n",
       "<table border=\"1\" class=\"dataframe\">\n",
       "  <thead>\n",
       "    <tr style=\"text-align: right;\">\n",
       "      <th></th>\n",
       "      <th>restaurant_id</th>\n",
       "      <th>category</th>\n",
       "      <th>name</th>\n",
       "      <th>description</th>\n",
       "      <th>price</th>\n",
       "    </tr>\n",
       "  </thead>\n",
       "  <tbody>\n",
       "    <tr>\n",
       "      <th>0</th>\n",
       "      <td>1</td>\n",
       "      <td>Extra Large Pizza</td>\n",
       "      <td>Extra Large Meat Lovers</td>\n",
       "      <td>Whole pie.</td>\n",
       "      <td>15.99 USD</td>\n",
       "    </tr>\n",
       "    <tr>\n",
       "      <th>1</th>\n",
       "      <td>1</td>\n",
       "      <td>Extra Large Pizza</td>\n",
       "      <td>Extra Large Supreme</td>\n",
       "      <td>Whole pie.</td>\n",
       "      <td>15.99 USD</td>\n",
       "    </tr>\n",
       "    <tr>\n",
       "      <th>2</th>\n",
       "      <td>1</td>\n",
       "      <td>Extra Large Pizza</td>\n",
       "      <td>Extra Large Pepperoni</td>\n",
       "      <td>Whole pie.</td>\n",
       "      <td>14.99 USD</td>\n",
       "    </tr>\n",
       "    <tr>\n",
       "      <th>3</th>\n",
       "      <td>1</td>\n",
       "      <td>Extra Large Pizza</td>\n",
       "      <td>Extra Large BBQ Chicken &amp;amp; Bacon</td>\n",
       "      <td>Whole Pie</td>\n",
       "      <td>15.99 USD</td>\n",
       "    </tr>\n",
       "    <tr>\n",
       "      <th>4</th>\n",
       "      <td>1</td>\n",
       "      <td>Extra Large Pizza</td>\n",
       "      <td>Extra Large 5 Cheese</td>\n",
       "      <td>Whole pie.</td>\n",
       "      <td>14.99 USD</td>\n",
       "    </tr>\n",
       "  </tbody>\n",
       "</table>\n",
       "</div>"
      ],
      "text/plain": [
       "   restaurant_id           category                                 name  \\\n",
       "0              1  Extra Large Pizza              Extra Large Meat Lovers   \n",
       "1              1  Extra Large Pizza                  Extra Large Supreme   \n",
       "2              1  Extra Large Pizza                Extra Large Pepperoni   \n",
       "3              1  Extra Large Pizza  Extra Large BBQ Chicken &amp; Bacon   \n",
       "4              1  Extra Large Pizza                 Extra Large 5 Cheese   \n",
       "\n",
       "  description      price  \n",
       "0  Whole pie.  15.99 USD  \n",
       "1  Whole pie.  15.99 USD  \n",
       "2  Whole pie.  14.99 USD  \n",
       "3   Whole Pie  15.99 USD  \n",
       "4  Whole pie.  14.99 USD  "
      ]
     },
     "execution_count": 6,
     "metadata": {},
     "output_type": "execute_result"
    }
   ],
   "source": [
    "# wyświetlenie pięciu pierwszych wierszy tabeli\n",
    "menu.head()\n"
   ]
  },
  {
   "cell_type": "code",
   "execution_count": 7,
   "id": "33d150ad",
   "metadata": {},
   "outputs": [
    {
     "name": "stdout",
     "output_type": "stream",
     "text": [
      "<class 'pandas.core.frame.DataFrame'>\n",
      "RangeIndex: 3375211 entries, 0 to 3375210\n",
      "Data columns (total 5 columns):\n",
      " #   Column         Dtype \n",
      "---  ------         ----- \n",
      " 0   restaurant_id  int64 \n",
      " 1   category       object\n",
      " 2   name           object\n",
      " 3   description    object\n",
      " 4   price          object\n",
      "dtypes: int64(1), object(4)\n",
      "memory usage: 128.8+ MB\n"
     ]
    }
   ],
   "source": [
    "# wyświetlenie informacji o tabeli\n",
    "menu.info()"
   ]
  },
  {
   "cell_type": "code",
   "execution_count": 36,
   "id": "d32e32d0",
   "metadata": {},
   "outputs": [],
   "source": [
    "menu_copy = menu.copy()\n",
    "rest_copy = rest.copy()"
   ]
  },
  {
   "cell_type": "code",
   "execution_count": 37,
   "id": "7d05621d",
   "metadata": {},
   "outputs": [],
   "source": [
    "menu_copy = menu_copy.dropna()\n",
    "rest_copy = rest_copy.dropna()"
   ]
  },
  {
   "cell_type": "code",
   "execution_count": 23,
   "id": "4db4fbd1",
   "metadata": {},
   "outputs": [
    {
     "name": "stdout",
     "output_type": "stream",
     "text": [
      "['Extra Large Meat Lovers' 'Extra Large Supreme' 'Extra Large Pepperoni'\n",
      " ... 'Panda Plate' 'Tiger Plate' 'Lion Plate']\n"
     ]
    }
   ],
   "source": [
    "# wyświetlenie wartości unikalnych dla kolumny 'category'\n",
    "print(menu_copy['name'].unique())"
   ]
  },
  {
   "cell_type": "code",
   "execution_count": 26,
   "id": "952263f4",
   "metadata": {},
   "outputs": [
    {
     "data": {
      "text/plain": [
       "Tuna                             2813\n",
       "Roast Beef                       2799\n",
       "Buffalo Chicken                  2787\n",
       "Steak &amp; Cheese               2711\n",
       "Caesar Salad                     2671\n",
       "B.L.T.                           2624\n",
       "Spicy Italian                    2622\n",
       "Meatball Marinara                2606\n",
       "Black Forest Ham                 2575\n",
       "Chicken &amp; Bacon Ranch        2572\n",
       "Rotisserie-Style Chicken         2549\n",
       "Cold Cut Combo®                  2542\n",
       "Baja Chicken &amp; Bacon         2508\n",
       "Steak \"Cali Fresh\"               2497\n",
       "Sweet Onion Chicken Teriyaki     2494\n",
       "Turkey \"Cali Fresh\"              2450\n",
       "Subway Club®                     2439\n",
       "Oven Roasted Turkey &amp; Ham    2401\n",
       "Baja Turkey Avocado              2365\n",
       "Supreme Meats                    2347\n",
       "Name: name, dtype: int64"
      ]
     },
     "execution_count": 26,
     "metadata": {},
     "output_type": "execute_result"
    }
   ],
   "source": [
    "##czego jest najwięej w ofertach restauracji:\n",
    "count_products = menu_copy['name'].value_counts()\n",
    "count_products[:20]"
   ]
  },
  {
   "cell_type": "code",
   "execution_count": 28,
   "id": "6036870d",
   "metadata": {},
   "outputs": [],
   "source": [
    "##usunięcie USD z cen\n",
    "menu_copy['price'] = menu_copy['price'].replace(' USD', '')"
   ]
  },
  {
   "cell_type": "code",
   "execution_count": 29,
   "id": "b03ecfba",
   "metadata": {},
   "outputs": [],
   "source": [
    "##zmiana na numeric\n",
    "menu_copy['price'] = pd.to_numeric(menu_copy['price'], errors='coerce')"
   ]
  },
  {
   "cell_type": "code",
   "execution_count": 30,
   "id": "1cbcd76f",
   "metadata": {},
   "outputs": [],
   "source": [
    "## wyświetlenie informacji o restauracjach, w których można zamówić dany produkt\n",
    "bottled_water =menu_copy[menu_copy['name'] == 'Bottled Water']['restaurant_id']"
   ]
  },
  {
   "cell_type": "code",
   "execution_count": 31,
   "id": "8f5a79cb",
   "metadata": {},
   "outputs": [
    {
     "data": {
      "text/html": [
       "<div>\n",
       "<style scoped>\n",
       "    .dataframe tbody tr th:only-of-type {\n",
       "        vertical-align: middle;\n",
       "    }\n",
       "\n",
       "    .dataframe tbody tr th {\n",
       "        vertical-align: top;\n",
       "    }\n",
       "\n",
       "    .dataframe thead th {\n",
       "        text-align: right;\n",
       "    }\n",
       "</style>\n",
       "<table border=\"1\" class=\"dataframe\">\n",
       "  <thead>\n",
       "    <tr style=\"text-align: right;\">\n",
       "      <th></th>\n",
       "      <th>restaurant_id</th>\n",
       "      <th>price</th>\n",
       "    </tr>\n",
       "  </thead>\n",
       "  <tbody>\n",
       "    <tr>\n",
       "      <th>448</th>\n",
       "      <td>9</td>\n",
       "      <td>1.99</td>\n",
       "    </tr>\n",
       "    <tr>\n",
       "      <th>637</th>\n",
       "      <td>14</td>\n",
       "      <td>2.29</td>\n",
       "    </tr>\n",
       "    <tr>\n",
       "      <th>1791</th>\n",
       "      <td>36</td>\n",
       "      <td>0.00</td>\n",
       "    </tr>\n",
       "    <tr>\n",
       "      <th>10821</th>\n",
       "      <td>166</td>\n",
       "      <td>2.29</td>\n",
       "    </tr>\n",
       "    <tr>\n",
       "      <th>13362</th>\n",
       "      <td>198</td>\n",
       "      <td>2.63</td>\n",
       "    </tr>\n",
       "    <tr>\n",
       "      <th>...</th>\n",
       "      <td>...</td>\n",
       "      <td>...</td>\n",
       "    </tr>\n",
       "    <tr>\n",
       "      <th>3360639</th>\n",
       "      <td>39999</td>\n",
       "      <td>2.59</td>\n",
       "    </tr>\n",
       "    <tr>\n",
       "      <th>3366308</th>\n",
       "      <td>40102</td>\n",
       "      <td>2.46</td>\n",
       "    </tr>\n",
       "    <tr>\n",
       "      <th>3370120</th>\n",
       "      <td>40159</td>\n",
       "      <td>2.49</td>\n",
       "    </tr>\n",
       "    <tr>\n",
       "      <th>3371087</th>\n",
       "      <td>40171</td>\n",
       "      <td>1.00</td>\n",
       "    </tr>\n",
       "    <tr>\n",
       "      <th>3373231</th>\n",
       "      <td>40203</td>\n",
       "      <td>1.00</td>\n",
       "    </tr>\n",
       "  </tbody>\n",
       "</table>\n",
       "<p>1388 rows × 2 columns</p>\n",
       "</div>"
      ],
      "text/plain": [
       "         restaurant_id  price\n",
       "448                  9   1.99\n",
       "637                 14   2.29\n",
       "1791                36   0.00\n",
       "10821              166   2.29\n",
       "13362              198   2.63\n",
       "...                ...    ...\n",
       "3360639          39999   2.59\n",
       "3366308          40102   2.46\n",
       "3370120          40159   2.49\n",
       "3371087          40171   1.00\n",
       "3373231          40203   1.00\n",
       "\n",
       "[1388 rows x 2 columns]"
      ]
     },
     "execution_count": 31,
     "metadata": {},
     "output_type": "execute_result"
    }
   ],
   "source": [
    "bottled_water = menu_copy.loc[menu_copy['name'] == 'Bottled Water', ['restaurant_id', 'price']]\n",
    "bottled_water\n"
   ]
  },
  {
   "cell_type": "code",
   "execution_count": 32,
   "id": "a7bb7a84",
   "metadata": {},
   "outputs": [
    {
     "data": {
      "text/plain": [
       "2.4"
      ]
     },
     "execution_count": 32,
     "metadata": {},
     "output_type": "execute_result"
    }
   ],
   "source": [
    "##średnia cena wody:\n",
    "mean_price = round(bottled_water.price.mean(),2)\n",
    "mean_price"
   ]
  },
  {
   "cell_type": "code",
   "execution_count": 33,
   "id": "ebe6be34",
   "metadata": {},
   "outputs": [
    {
     "data": {
      "text/plain": [
       "852"
      ]
     },
     "execution_count": 33,
     "metadata": {},
     "output_type": "execute_result"
    }
   ],
   "source": [
    "count = menu_copy[(menu_copy['name'] == 'Bottled Water') & (menu_copy['price'] > 2.3)]['name'].count()\n",
    "count"
   ]
  },
  {
   "cell_type": "code",
   "execution_count": 34,
   "id": "a266685b",
   "metadata": {},
   "outputs": [
    {
     "data": {
      "text/plain": [
       "525"
      ]
     },
     "execution_count": 34,
     "metadata": {},
     "output_type": "execute_result"
    }
   ],
   "source": [
    "count2 = menu_copy[(menu_copy['name'] == 'Bottled Water') & (menu_copy['price'] < 2.3)]['name'].count()\n",
    "count2"
   ]
  },
  {
   "cell_type": "code",
   "execution_count": 66,
   "id": "13a8502c",
   "metadata": {},
   "outputs": [
    {
     "data": {
      "text/html": [
       "<div>\n",
       "<style scoped>\n",
       "    .dataframe tbody tr th:only-of-type {\n",
       "        vertical-align: middle;\n",
       "    }\n",
       "\n",
       "    .dataframe tbody tr th {\n",
       "        vertical-align: top;\n",
       "    }\n",
       "\n",
       "    .dataframe thead th {\n",
       "        text-align: right;\n",
       "    }\n",
       "</style>\n",
       "<table border=\"1\" class=\"dataframe\">\n",
       "  <thead>\n",
       "    <tr style=\"text-align: right;\">\n",
       "      <th></th>\n",
       "      <th>restaurant_id</th>\n",
       "      <th>category_x</th>\n",
       "      <th>name_x</th>\n",
       "      <th>description</th>\n",
       "      <th>price</th>\n",
       "      <th>id</th>\n",
       "      <th>position</th>\n",
       "      <th>name_y</th>\n",
       "      <th>score</th>\n",
       "      <th>ratings</th>\n",
       "      <th>category_y</th>\n",
       "      <th>price_range</th>\n",
       "      <th>full_address</th>\n",
       "      <th>zip_code</th>\n",
       "      <th>lat</th>\n",
       "      <th>lng</th>\n",
       "    </tr>\n",
       "  </thead>\n",
       "  <tbody>\n",
       "    <tr>\n",
       "      <th>0</th>\n",
       "      <td>1</td>\n",
       "      <td>Extra Large Pizza</td>\n",
       "      <td>Extra Large Meat Lovers</td>\n",
       "      <td>Whole pie.</td>\n",
       "      <td>15.99</td>\n",
       "      <td>NaN</td>\n",
       "      <td>NaN</td>\n",
       "      <td>NaN</td>\n",
       "      <td>NaN</td>\n",
       "      <td>NaN</td>\n",
       "      <td>NaN</td>\n",
       "      <td>NaN</td>\n",
       "      <td>NaN</td>\n",
       "      <td>NaN</td>\n",
       "      <td>NaN</td>\n",
       "      <td>NaN</td>\n",
       "    </tr>\n",
       "    <tr>\n",
       "      <th>1</th>\n",
       "      <td>1</td>\n",
       "      <td>Extra Large Pizza</td>\n",
       "      <td>Extra Large Supreme</td>\n",
       "      <td>Whole pie.</td>\n",
       "      <td>15.99</td>\n",
       "      <td>NaN</td>\n",
       "      <td>NaN</td>\n",
       "      <td>NaN</td>\n",
       "      <td>NaN</td>\n",
       "      <td>NaN</td>\n",
       "      <td>NaN</td>\n",
       "      <td>NaN</td>\n",
       "      <td>NaN</td>\n",
       "      <td>NaN</td>\n",
       "      <td>NaN</td>\n",
       "      <td>NaN</td>\n",
       "    </tr>\n",
       "    <tr>\n",
       "      <th>2</th>\n",
       "      <td>1</td>\n",
       "      <td>Extra Large Pizza</td>\n",
       "      <td>Extra Large Pepperoni</td>\n",
       "      <td>Whole pie.</td>\n",
       "      <td>14.99</td>\n",
       "      <td>NaN</td>\n",
       "      <td>NaN</td>\n",
       "      <td>NaN</td>\n",
       "      <td>NaN</td>\n",
       "      <td>NaN</td>\n",
       "      <td>NaN</td>\n",
       "      <td>NaN</td>\n",
       "      <td>NaN</td>\n",
       "      <td>NaN</td>\n",
       "      <td>NaN</td>\n",
       "      <td>NaN</td>\n",
       "    </tr>\n",
       "    <tr>\n",
       "      <th>3</th>\n",
       "      <td>1</td>\n",
       "      <td>Extra Large Pizza</td>\n",
       "      <td>Extra Large BBQ Chicken &amp;amp; Bacon</td>\n",
       "      <td>Whole Pie</td>\n",
       "      <td>15.99</td>\n",
       "      <td>NaN</td>\n",
       "      <td>NaN</td>\n",
       "      <td>NaN</td>\n",
       "      <td>NaN</td>\n",
       "      <td>NaN</td>\n",
       "      <td>NaN</td>\n",
       "      <td>NaN</td>\n",
       "      <td>NaN</td>\n",
       "      <td>NaN</td>\n",
       "      <td>NaN</td>\n",
       "      <td>NaN</td>\n",
       "    </tr>\n",
       "    <tr>\n",
       "      <th>4</th>\n",
       "      <td>1</td>\n",
       "      <td>Extra Large Pizza</td>\n",
       "      <td>Extra Large 5 Cheese</td>\n",
       "      <td>Whole pie.</td>\n",
       "      <td>14.99</td>\n",
       "      <td>NaN</td>\n",
       "      <td>NaN</td>\n",
       "      <td>NaN</td>\n",
       "      <td>NaN</td>\n",
       "      <td>NaN</td>\n",
       "      <td>NaN</td>\n",
       "      <td>NaN</td>\n",
       "      <td>NaN</td>\n",
       "      <td>NaN</td>\n",
       "      <td>NaN</td>\n",
       "      <td>NaN</td>\n",
       "    </tr>\n",
       "    <tr>\n",
       "      <th>...</th>\n",
       "      <td>...</td>\n",
       "      <td>...</td>\n",
       "      <td>...</td>\n",
       "      <td>...</td>\n",
       "      <td>...</td>\n",
       "      <td>...</td>\n",
       "      <td>...</td>\n",
       "      <td>...</td>\n",
       "      <td>...</td>\n",
       "      <td>...</td>\n",
       "      <td>...</td>\n",
       "      <td>...</td>\n",
       "      <td>...</td>\n",
       "      <td>...</td>\n",
       "      <td>...</td>\n",
       "      <td>...</td>\n",
       "    </tr>\n",
       "    <tr>\n",
       "      <th>2466909</th>\n",
       "      <td>40227</td>\n",
       "      <td>Chef's Special</td>\n",
       "      <td>Dragon and Tiger Fight</td>\n",
       "      <td>HALF GENERAL TSAO'S CHICKEN AND HALF SHRIMP WI...</td>\n",
       "      <td>13.95</td>\n",
       "      <td>40227.0</td>\n",
       "      <td>50.0</td>\n",
       "      <td>Beijing Wok</td>\n",
       "      <td>4.4</td>\n",
       "      <td>254.0</td>\n",
       "      <td>Chinese, Asian, Asian Fusion, Family Friendly,...</td>\n",
       "      <td>$</td>\n",
       "      <td>8106 Brodie Ln, Austin, TX, 78749</td>\n",
       "      <td>78749</td>\n",
       "      <td>30.20221</td>\n",
       "      <td>-97.838689</td>\n",
       "    </tr>\n",
       "    <tr>\n",
       "      <th>2466910</th>\n",
       "      <td>40227</td>\n",
       "      <td>Chef's Special</td>\n",
       "      <td>China Town</td>\n",
       "      <td>CHICKEN,BEEF AND SHRIMP STIR FRIED WITH MIXED ...</td>\n",
       "      <td>13.95</td>\n",
       "      <td>40227.0</td>\n",
       "      <td>50.0</td>\n",
       "      <td>Beijing Wok</td>\n",
       "      <td>4.4</td>\n",
       "      <td>254.0</td>\n",
       "      <td>Chinese, Asian, Asian Fusion, Family Friendly,...</td>\n",
       "      <td>$</td>\n",
       "      <td>8106 Brodie Ln, Austin, TX, 78749</td>\n",
       "      <td>78749</td>\n",
       "      <td>30.20221</td>\n",
       "      <td>-97.838689</td>\n",
       "    </tr>\n",
       "    <tr>\n",
       "      <th>2466911</th>\n",
       "      <td>40227</td>\n",
       "      <td>Kid’s Mains</td>\n",
       "      <td>Panda Plate</td>\n",
       "      <td>Chicken wings two pieces and golden chicken fi...</td>\n",
       "      <td>8.55</td>\n",
       "      <td>40227.0</td>\n",
       "      <td>50.0</td>\n",
       "      <td>Beijing Wok</td>\n",
       "      <td>4.4</td>\n",
       "      <td>254.0</td>\n",
       "      <td>Chinese, Asian, Asian Fusion, Family Friendly,...</td>\n",
       "      <td>$</td>\n",
       "      <td>8106 Brodie Ln, Austin, TX, 78749</td>\n",
       "      <td>78749</td>\n",
       "      <td>30.20221</td>\n",
       "      <td>-97.838689</td>\n",
       "    </tr>\n",
       "    <tr>\n",
       "      <th>2466912</th>\n",
       "      <td>40227</td>\n",
       "      <td>Kid’s Mains</td>\n",
       "      <td>Tiger Plate</td>\n",
       "      <td>Crab puff two pieces and egg rolls two pieces....</td>\n",
       "      <td>8.55</td>\n",
       "      <td>40227.0</td>\n",
       "      <td>50.0</td>\n",
       "      <td>Beijing Wok</td>\n",
       "      <td>4.4</td>\n",
       "      <td>254.0</td>\n",
       "      <td>Chinese, Asian, Asian Fusion, Family Friendly,...</td>\n",
       "      <td>$</td>\n",
       "      <td>8106 Brodie Ln, Austin, TX, 78749</td>\n",
       "      <td>78749</td>\n",
       "      <td>30.20221</td>\n",
       "      <td>-97.838689</td>\n",
       "    </tr>\n",
       "    <tr>\n",
       "      <th>2466913</th>\n",
       "      <td>40227</td>\n",
       "      <td>Kid’s Mains</td>\n",
       "      <td>Lion Plate</td>\n",
       "      <td>BBQ skewer two pices and fantail shrimp two pi...</td>\n",
       "      <td>8.55</td>\n",
       "      <td>40227.0</td>\n",
       "      <td>50.0</td>\n",
       "      <td>Beijing Wok</td>\n",
       "      <td>4.4</td>\n",
       "      <td>254.0</td>\n",
       "      <td>Chinese, Asian, Asian Fusion, Family Friendly,...</td>\n",
       "      <td>$</td>\n",
       "      <td>8106 Brodie Ln, Austin, TX, 78749</td>\n",
       "      <td>78749</td>\n",
       "      <td>30.20221</td>\n",
       "      <td>-97.838689</td>\n",
       "    </tr>\n",
       "  </tbody>\n",
       "</table>\n",
       "<p>2466914 rows × 16 columns</p>\n",
       "</div>"
      ],
      "text/plain": [
       "         restaurant_id         category_x  \\\n",
       "0                    1  Extra Large Pizza   \n",
       "1                    1  Extra Large Pizza   \n",
       "2                    1  Extra Large Pizza   \n",
       "3                    1  Extra Large Pizza   \n",
       "4                    1  Extra Large Pizza   \n",
       "...                ...                ...   \n",
       "2466909          40227     Chef's Special   \n",
       "2466910          40227     Chef's Special   \n",
       "2466911          40227        Kid’s Mains   \n",
       "2466912          40227        Kid’s Mains   \n",
       "2466913          40227        Kid’s Mains   \n",
       "\n",
       "                                      name_x  \\\n",
       "0                    Extra Large Meat Lovers   \n",
       "1                        Extra Large Supreme   \n",
       "2                      Extra Large Pepperoni   \n",
       "3        Extra Large BBQ Chicken &amp; Bacon   \n",
       "4                       Extra Large 5 Cheese   \n",
       "...                                      ...   \n",
       "2466909               Dragon and Tiger Fight   \n",
       "2466910                           China Town   \n",
       "2466911                          Panda Plate   \n",
       "2466912                          Tiger Plate   \n",
       "2466913                           Lion Plate   \n",
       "\n",
       "                                               description  price       id  \\\n",
       "0                                               Whole pie.  15.99      NaN   \n",
       "1                                               Whole pie.  15.99      NaN   \n",
       "2                                               Whole pie.  14.99      NaN   \n",
       "3                                                Whole Pie  15.99      NaN   \n",
       "4                                               Whole pie.  14.99      NaN   \n",
       "...                                                    ...    ...      ...   \n",
       "2466909  HALF GENERAL TSAO'S CHICKEN AND HALF SHRIMP WI...  13.95  40227.0   \n",
       "2466910  CHICKEN,BEEF AND SHRIMP STIR FRIED WITH MIXED ...  13.95  40227.0   \n",
       "2466911  Chicken wings two pieces and golden chicken fi...   8.55  40227.0   \n",
       "2466912  Crab puff two pieces and egg rolls two pieces....   8.55  40227.0   \n",
       "2466913  BBQ skewer two pices and fantail shrimp two pi...   8.55  40227.0   \n",
       "\n",
       "         position       name_y  score  ratings  \\\n",
       "0             NaN          NaN    NaN      NaN   \n",
       "1             NaN          NaN    NaN      NaN   \n",
       "2             NaN          NaN    NaN      NaN   \n",
       "3             NaN          NaN    NaN      NaN   \n",
       "4             NaN          NaN    NaN      NaN   \n",
       "...           ...          ...    ...      ...   \n",
       "2466909      50.0  Beijing Wok    4.4    254.0   \n",
       "2466910      50.0  Beijing Wok    4.4    254.0   \n",
       "2466911      50.0  Beijing Wok    4.4    254.0   \n",
       "2466912      50.0  Beijing Wok    4.4    254.0   \n",
       "2466913      50.0  Beijing Wok    4.4    254.0   \n",
       "\n",
       "                                                category_y price_range  \\\n",
       "0                                                      NaN         NaN   \n",
       "1                                                      NaN         NaN   \n",
       "2                                                      NaN         NaN   \n",
       "3                                                      NaN         NaN   \n",
       "4                                                      NaN         NaN   \n",
       "...                                                    ...         ...   \n",
       "2466909  Chinese, Asian, Asian Fusion, Family Friendly,...           $   \n",
       "2466910  Chinese, Asian, Asian Fusion, Family Friendly,...           $   \n",
       "2466911  Chinese, Asian, Asian Fusion, Family Friendly,...           $   \n",
       "2466912  Chinese, Asian, Asian Fusion, Family Friendly,...           $   \n",
       "2466913  Chinese, Asian, Asian Fusion, Family Friendly,...           $   \n",
       "\n",
       "                              full_address zip_code       lat        lng  \n",
       "0                                      NaN      NaN       NaN        NaN  \n",
       "1                                      NaN      NaN       NaN        NaN  \n",
       "2                                      NaN      NaN       NaN        NaN  \n",
       "3                                      NaN      NaN       NaN        NaN  \n",
       "4                                      NaN      NaN       NaN        NaN  \n",
       "...                                    ...      ...       ...        ...  \n",
       "2466909  8106 Brodie Ln, Austin, TX, 78749    78749  30.20221 -97.838689  \n",
       "2466910  8106 Brodie Ln, Austin, TX, 78749    78749  30.20221 -97.838689  \n",
       "2466911  8106 Brodie Ln, Austin, TX, 78749    78749  30.20221 -97.838689  \n",
       "2466912  8106 Brodie Ln, Austin, TX, 78749    78749  30.20221 -97.838689  \n",
       "2466913  8106 Brodie Ln, Austin, TX, 78749    78749  30.20221 -97.838689  \n",
       "\n",
       "[2466914 rows x 16 columns]"
      ]
     },
     "execution_count": 66,
     "metadata": {},
     "output_type": "execute_result"
    }
   ],
   "source": [
    "##dodanie do tabeli menu lng i lat z tabeli restaurant\n",
    "menu_rest = pd.merge(menu_copy, rest_copy, left_on='restaurant_id', right_on='id', how='left')\n",
    "menu_rest"
   ]
  },
  {
   "cell_type": "code",
   "execution_count": null,
   "id": "363a93d9",
   "metadata": {},
   "outputs": [],
   "source": []
  },
  {
   "cell_type": "code",
   "execution_count": 67,
   "id": "fd15932d",
   "metadata": {},
   "outputs": [
    {
     "data": {
      "text/plain": [
       "5.0"
      ]
     },
     "execution_count": 67,
     "metadata": {},
     "output_type": "execute_result"
    }
   ],
   "source": [
    "##max\n",
    "max_price_water = menu_rest[menu_rest['name_x'] == 'Bottled Water']['price'].max()\n",
    "max_price_water"
   ]
  },
  {
   "cell_type": "code",
   "execution_count": 68,
   "id": "60188c72",
   "metadata": {
    "scrolled": true
   },
   "outputs": [
    {
     "data": {
      "text/plain": [
       "0.0"
      ]
     },
     "execution_count": 68,
     "metadata": {},
     "output_type": "execute_result"
    }
   ],
   "source": [
    "##min\n",
    "min_price_water = menu_rest[menu_rest['name_x'] == 'Bottled Water']['price'].min()\n",
    "min_price_water"
   ]
  },
  {
   "cell_type": "code",
   "execution_count": 69,
   "id": "c1a8c7db",
   "metadata": {},
   "outputs": [
    {
     "data": {
      "text/plain": [
       "2.4"
      ]
     },
     "execution_count": 69,
     "metadata": {},
     "output_type": "execute_result"
    }
   ],
   "source": [
    "bottled_water = menu_rest.loc[menu_rest['name_x'] == 'Bottled Water', ['restaurant_id', 'price', 'price_range']]\n",
    "mean_price = round(bottled_water.price.mean(),2)\n",
    "mean_price"
   ]
  },
  {
   "cell_type": "code",
   "execution_count": 48,
   "id": "701f3e65",
   "metadata": {
    "scrolled": true
   },
   "outputs": [
    {
     "name": "stdout",
     "output_type": "stream",
     "text": [
      "price_range\n",
      "$       528\n",
      "$$       39\n",
      "$$$$      1\n",
      "dtype: int64\n"
     ]
    }
   ],
   "source": [
    "counts = menu_rest[(menu_rest['name_x'] == 'Bottled Water') & (menu_rest['price'] < 2.4)].groupby('price_range').size()\n",
    "\n",
    "print(counts)"
   ]
  },
  {
   "cell_type": "code",
   "execution_count": 49,
   "id": "133830cc",
   "metadata": {},
   "outputs": [
    {
     "name": "stdout",
     "output_type": "stream",
     "text": [
      "price_range\n",
      "$      597\n",
      "$$      69\n",
      "$$$      1\n",
      "dtype: int64\n"
     ]
    }
   ],
   "source": [
    "counts2 = menu_rest[(menu_rest['name_x'] == 'Bottled Water') & (menu_rest['price'] > 2.4)].groupby('price_range').size()\n",
    "\n",
    "print(counts2)"
   ]
  },
  {
   "cell_type": "code",
   "execution_count": 43,
   "id": "fd5677d4",
   "metadata": {},
   "outputs": [
    {
     "data": {
      "text/plain": [
       "536"
      ]
     },
     "execution_count": 43,
     "metadata": {},
     "output_type": "execute_result"
    }
   ],
   "source": [
    "##ile restauracji ma cene woy poniżej i powyzej średniej\n",
    "num_powyzej = (bottled_water['price'] > 2.3).value_counts()[True]\n",
    "num_ponizej = (bottled_water['price'] <= 2.3).value_counts()[True]\n",
    "\n",
    "num_ponizej"
   ]
  },
  {
   "cell_type": "code",
   "execution_count": 44,
   "id": "e1226a90",
   "metadata": {
    "scrolled": true
   },
   "outputs": [
    {
     "data": {
      "text/plain": [
       "852"
      ]
     },
     "execution_count": 44,
     "metadata": {},
     "output_type": "execute_result"
    }
   ],
   "source": [
    "num_powyzej "
   ]
  },
  {
   "cell_type": "code",
   "execution_count": 45,
   "id": "d22e2164",
   "metadata": {},
   "outputs": [
    {
     "name": "stdout",
     "output_type": "stream",
     "text": [
      "             count  count2\n",
      "price_range               \n",
      "$            393.0   745.0\n",
      "$$            35.0    70.0\n",
      "$$$            NaN     1.0\n",
      "$$$$           1.0     NaN\n"
     ]
    }
   ],
   "source": [
    "counts = menu_rest[(menu_rest['name_x'] == 'Bottled Water') & (menu_rest['price'] < 2.3)].groupby('price_range').size()\n",
    "counts = pd.DataFrame(counts, columns=['count'])\n",
    "\n",
    "# zliczamy pozycje dla Iced Tea z ceną < 2.59\n",
    "counts2 = menu_rest[(menu_rest['name_x'] == 'Bottled Water') & (menu_rest['price'] > 2.3)].groupby('price_range').size()\n",
    "counts2 = pd.DataFrame(counts2, columns=['count2'])\n",
    "\n",
    "# łączymy obie serie w jedną tabelę\n",
    "counts_water = counts.join(counts2, how='outer')\n",
    "\n",
    "print(counts_water)"
   ]
  },
  {
   "cell_type": "code",
   "execution_count": null,
   "id": "93ee6c93",
   "metadata": {},
   "outputs": [],
   "source": []
  },
  {
   "cell_type": "code",
   "execution_count": null,
   "id": "bed237ea",
   "metadata": {},
   "outputs": [],
   "source": []
  },
  {
   "cell_type": "code",
   "execution_count": null,
   "id": "f081b6a2",
   "metadata": {},
   "outputs": [],
   "source": [
    "###Iced Tea'"
   ]
  },
  {
   "cell_type": "code",
   "execution_count": 46,
   "id": "cbc2bab0",
   "metadata": {},
   "outputs": [
    {
     "data": {
      "text/plain": [
       "2.59"
      ]
     },
     "execution_count": 46,
     "metadata": {},
     "output_type": "execute_result"
    }
   ],
   "source": [
    "iced_tea = menu.loc[menu['name'] == 'Iced Tea', ['restaurant_id', 'price']]\n",
    "mean_price = round(iced_tea.price.mean(),2)\n",
    "mean_price"
   ]
  },
  {
   "cell_type": "code",
   "execution_count": null,
   "id": "655ceb55",
   "metadata": {},
   "outputs": [],
   "source": [
    "count = menu[(menu['name'] == 'Iced Tea') & (menu['price'] > 2.59)]['name'].count()\n",
    "count2 = menu[(menu['name'] == 'Iced Tea') & (menu['price'] < 2.59)]['name'].count()\n",
    "count\n",
    "count2"
   ]
  },
  {
   "cell_type": "code",
   "execution_count": null,
   "id": "349c70e0",
   "metadata": {},
   "outputs": [],
   "source": [
    "max_price_icedtea = menu_rest[menu_rest['name_x'] == 'Iced Tea']['price'].max()\n",
    "\n",
    "min_price_icedtea = menu_rest[menu_rest['name_x'] == 'Iced Tea']['price'].min()\n",
    "max_price_icedtea"
   ]
  },
  {
   "cell_type": "code",
   "execution_count": null,
   "id": "80e4149e",
   "metadata": {},
   "outputs": [],
   "source": [
    "counts_tea = menu_rest[(menu_rest['name_x'] == 'Iced Tea') & (menu_rest['price'] < 2.59)].groupby('price_range').size()\n",
    "counts_tea"
   ]
  },
  {
   "cell_type": "code",
   "execution_count": null,
   "id": "cc470968",
   "metadata": {},
   "outputs": [],
   "source": [
    "counts_tea2 = menu_rest[(menu_rest['name_x'] == 'Iced Tea') & (menu_rest['price'] > 2.59)].groupby('price_range').size()\n",
    "counts_tea2"
   ]
  },
  {
   "cell_type": "code",
   "execution_count": null,
   "id": "72144451",
   "metadata": {},
   "outputs": [],
   "source": [
    "\n",
    "\n",
    "# zliczamy pozycje dla Iced Tea z ceną > 2.59\n",
    "counts_tea2 = menu_rest[(menu_rest['name_x'] == 'Iced Tea') & (menu_rest['price'] > 2.59)].groupby('price_range').size()\n",
    "counts_tea2 = pd.DataFrame(counts_tea2, columns=['tea>2,59'])\n",
    "\n",
    "# zliczamy pozycje dla Iced Tea z ceną < 2.59\n",
    "counts_tea = menu_rest[(menu_rest['name_x'] == 'Iced Tea') & (menu_rest['price'] < 2.59)].groupby('price_range').size()\n",
    "counts_tea = pd.DataFrame(counts_tea, columns=['tea<2,59'])\n",
    "\n",
    "# łączymy obie serie w jedną tabelę\n",
    "counts_tea = counts_tea.join(counts_tea2, how='outer')\n",
    "\n",
    "print(counts_tea)\n"
   ]
  },
  {
   "cell_type": "code",
   "execution_count": null,
   "id": "13fcde85",
   "metadata": {},
   "outputs": [],
   "source": [
    "##sprite"
   ]
  },
  {
   "cell_type": "code",
   "execution_count": null,
   "id": "62d72e56",
   "metadata": {},
   "outputs": [],
   "source": [
    "sprite = menu.loc[menu['name'] == 'Sprite', ['restaurant_id', 'price']]\n",
    "mean_price = round(sprite.price.mean(),2)\n",
    "mean_price"
   ]
  },
  {
   "cell_type": "code",
   "execution_count": null,
   "id": "eb5ed273",
   "metadata": {},
   "outputs": [],
   "source": [
    "count = menu[(menu['name'] == 'Sprite') & (menu['price'] > 2.63)]['name'].count()\n",
    "count2 = menu[(menu['name'] == 'Sprite') & (menu['price'] < 2.63)]['name'].count()\n",
    "count"
   ]
  },
  {
   "cell_type": "code",
   "execution_count": null,
   "id": "55681e4a",
   "metadata": {},
   "outputs": [],
   "source": [
    "max_price_sprite = menu_rest[menu_rest['name_x'] == 'Sprite']['price'].max()\n",
    "\n",
    "min_price_sprite = menu_rest[menu_rest['name_x'] == 'Sprite']['price'].min()\n",
    "max_price_sprite"
   ]
  },
  {
   "cell_type": "code",
   "execution_count": null,
   "id": "3a22e90b",
   "metadata": {},
   "outputs": [],
   "source": [
    "sprite = menu_rest[(menu_rest['name_x'] == 'Sprite') & (menu_rest['price'] > 2.63)].groupby('price_range').size()\n",
    "sprite = pd.DataFrame(sprite, columns=['sprite'])\n",
    "\n",
    "# zliczamy pozycje dla Iced Tea z ceną < 2.59\n",
    "sprite2 = menu_rest[(menu_rest['name_x'] == 'Sprite') & (menu_rest['price'] < 2.63)].groupby('price_range').size()\n",
    "sprite2 = pd.DataFrame(sprite2, columns=['sprite2'])\n",
    "\n",
    "# łączymy obie serie w jedną tabelę\n",
    "counts_sprite = sprite.join(sprite2, how='outer')\n",
    "\n",
    "print(counts_sprite)"
   ]
  },
  {
   "cell_type": "code",
   "execution_count": null,
   "id": "a4817506",
   "metadata": {},
   "outputs": [],
   "source": []
  },
  {
   "cell_type": "code",
   "execution_count": null,
   "id": "9116f1a8",
   "metadata": {},
   "outputs": [],
   "source": [
    "##milk"
   ]
  },
  {
   "cell_type": "code",
   "execution_count": null,
   "id": "99b42dcb",
   "metadata": {},
   "outputs": [],
   "source": [
    "milk = menu.loc[menu['name'] == 'Milk', ['restaurant_id', 'price']]\n",
    "mean_price = round(milk.price.mean(),2)\n",
    "mean_price"
   ]
  },
  {
   "cell_type": "code",
   "execution_count": null,
   "id": "6f262a4a",
   "metadata": {},
   "outputs": [],
   "source": [
    "count = menu[(menu['name'] == 'Milk') & (menu['price'] > 2.44)]['name'].count()\n",
    "count2 = menu[(menu['name'] == 'Milk') & (menu['price'] < 2.44)]['name'].count()\n",
    "count"
   ]
  },
  {
   "cell_type": "code",
   "execution_count": null,
   "id": "7328cebc",
   "metadata": {},
   "outputs": [],
   "source": [
    "milk = menu_rest[(menu_rest['name_x'] == 'Milk') & (menu_rest['price'] > 2.44)].groupby('price_range').size()\n",
    "milk = pd.DataFrame(milk, columns=['milk > 2,44'])\n",
    "\n",
    "# zliczamy pozycje dla Iced Tea z ceną < 2.59\n",
    "milk2 = menu_rest[(menu_rest['name_x'] == 'Milk') & (menu_rest['price'] < 2.44)].groupby('price_range').size()\n",
    "milk2 = pd.DataFrame(milk2, columns=['milk <2,44'])\n",
    "\n",
    "# łączymy obie serie w jedną tabelę\n",
    "counts_milk = milk.join(milk2, how='outer')\n",
    "\n",
    "print(counts_milk)"
   ]
  },
  {
   "cell_type": "code",
   "execution_count": null,
   "id": "5ee748dd",
   "metadata": {},
   "outputs": [],
   "source": [
    "##lemonade"
   ]
  },
  {
   "cell_type": "code",
   "execution_count": null,
   "id": "b7bc3b52",
   "metadata": {},
   "outputs": [],
   "source": [
    "lemonade = menu.loc[menu['name'] == 'Lemonade', ['restaurant_id', 'price']]\n",
    "mean_price = round(lemonade.price.mean(),2)\n",
    "mean_price"
   ]
  },
  {
   "cell_type": "code",
   "execution_count": null,
   "id": "a9561f45",
   "metadata": {},
   "outputs": [],
   "source": [
    "lemonade = menu_rest[(menu_rest['name_x'] == 'Lemonade') & (menu_rest['price'] > 3.69)].groupby('price_range').size()\n",
    "lemonade = pd.DataFrame(lemonade, columns=['lemonade > 3,69'])\n",
    "\n",
    "# zliczamy pozycje dla Iced Tea z ceną < 2.59\n",
    "lemonade2 = menu_rest[(menu_rest['name_x'] == 'Lemonade') & (menu_rest['price'] < 3.69)].groupby('price_range').size()\n",
    "lemonade2 = pd.DataFrame(lemonade2, columns=['lemonade < 3,69'])\n",
    "\n",
    "# łączymy obie serie w jedną tabelę\n",
    "counts_lemonade = lemonade.join(lemonade2, how='outer')\n",
    "\n",
    "print(counts_lemonade)"
   ]
  },
  {
   "cell_type": "code",
   "execution_count": null,
   "id": "e75359c9",
   "metadata": {},
   "outputs": [],
   "source": [
    "## diet coke"
   ]
  },
  {
   "cell_type": "code",
   "execution_count": null,
   "id": "3d2364df",
   "metadata": {},
   "outputs": [],
   "source": [
    "diet_coke = menu.loc[menu['name'] == 'Diet Coke', ['restaurant_id', 'price']]\n",
    "mean_price = round(diet_coke.price.mean(),2)\n",
    "mean_price"
   ]
  },
  {
   "cell_type": "code",
   "execution_count": null,
   "id": "51dd8220",
   "metadata": {},
   "outputs": [],
   "source": [
    "diet_coke = menu_rest[(menu_rest['name_x'] == 'Diet Coke') & (menu_rest['price'] > 2.64)].groupby('price_range').size()\n",
    "diet_coke = pd.DataFrame(diet_coke, columns=['diet_coke > 2,64'])\n",
    "\n",
    "# zliczamy pozycje dla Iced Tea z ceną < 2.59\n",
    "diet_coke2 = menu_rest[(menu_rest['name_x'] == 'Diet Coke') & (menu_rest['price'] < 2.64)].groupby('price_range').size()\n",
    "diet_coke2 = pd.DataFrame(diet_coke2, columns=['diet_coke2 < 2,64'])\n",
    "\n",
    "# łączymy obie serie w jedną tabelę\n",
    "counts_diet_coke = diet_coke.join(diet_coke2, how='outer')\n",
    "\n",
    "print(counts_diet_coke)"
   ]
  },
  {
   "cell_type": "code",
   "execution_count": null,
   "id": "4c606055",
   "metadata": {},
   "outputs": [],
   "source": []
  },
  {
   "cell_type": "code",
   "execution_count": null,
   "id": "2849cb3b",
   "metadata": {},
   "outputs": [],
   "source": []
  },
  {
   "cell_type": "code",
   "execution_count": null,
   "id": "e140d6b2",
   "metadata": {},
   "outputs": [],
   "source": []
  },
  {
   "cell_type": "code",
   "execution_count": null,
   "id": "a1c0e2c1",
   "metadata": {},
   "outputs": [],
   "source": []
  },
  {
   "cell_type": "code",
   "execution_count": null,
   "id": "766de61e",
   "metadata": {},
   "outputs": [],
   "source": []
  },
  {
   "cell_type": "code",
   "execution_count": null,
   "id": "dcc0cb2d",
   "metadata": {},
   "outputs": [],
   "source": []
  },
  {
   "cell_type": "code",
   "execution_count": null,
   "id": "6f232bd1",
   "metadata": {},
   "outputs": [],
   "source": []
  },
  {
   "cell_type": "code",
   "execution_count": null,
   "id": "357aa857",
   "metadata": {},
   "outputs": [],
   "source": []
  },
  {
   "cell_type": "code",
   "execution_count": null,
   "id": "06081e79",
   "metadata": {},
   "outputs": [],
   "source": []
  },
  {
   "cell_type": "code",
   "execution_count": null,
   "id": "d24a8415",
   "metadata": {},
   "outputs": [],
   "source": []
  },
  {
   "cell_type": "code",
   "execution_count": null,
   "id": "c440f71b",
   "metadata": {},
   "outputs": [],
   "source": []
  },
  {
   "cell_type": "code",
   "execution_count": null,
   "id": "d671880f",
   "metadata": {},
   "outputs": [],
   "source": []
  },
  {
   "cell_type": "code",
   "execution_count": null,
   "id": "0c7326a9",
   "metadata": {},
   "outputs": [],
   "source": []
  },
  {
   "cell_type": "code",
   "execution_count": null,
   "id": "08b8a3a7",
   "metadata": {},
   "outputs": [],
   "source": []
  },
  {
   "cell_type": "code",
   "execution_count": null,
   "id": "88ff6e6e",
   "metadata": {},
   "outputs": [],
   "source": []
  },
  {
   "cell_type": "code",
   "execution_count": null,
   "id": "0c4eb621",
   "metadata": {},
   "outputs": [],
   "source": []
  },
  {
   "cell_type": "code",
   "execution_count": null,
   "id": "57cd4a7b",
   "metadata": {},
   "outputs": [],
   "source": []
  },
  {
   "cell_type": "code",
   "execution_count": null,
   "id": "551afe8f",
   "metadata": {},
   "outputs": [],
   "source": []
  },
  {
   "cell_type": "code",
   "execution_count": null,
   "id": "5a345226",
   "metadata": {},
   "outputs": [],
   "source": []
  },
  {
   "cell_type": "code",
   "execution_count": null,
   "id": "168deaf4",
   "metadata": {},
   "outputs": [],
   "source": []
  },
  {
   "cell_type": "code",
   "execution_count": null,
   "id": "2db117cc",
   "metadata": {},
   "outputs": [],
   "source": []
  },
  {
   "cell_type": "code",
   "execution_count": null,
   "id": "c6dbbfd3",
   "metadata": {},
   "outputs": [],
   "source": []
  },
  {
   "cell_type": "code",
   "execution_count": null,
   "id": "8ac7b6e9",
   "metadata": {},
   "outputs": [],
   "source": []
  },
  {
   "cell_type": "code",
   "execution_count": null,
   "id": "3680c4a0",
   "metadata": {},
   "outputs": [],
   "source": []
  },
  {
   "cell_type": "code",
   "execution_count": 57,
   "id": "93512984",
   "metadata": {},
   "outputs": [
    {
     "data": {
      "text/plain": [
       "1.0    1794458\n",
       "2.0     425377\n",
       "3.0       6785\n",
       "4.0        672\n",
       "Name: price_range, dtype: int64"
      ]
     },
     "execution_count": 57,
     "metadata": {},
     "output_type": "execute_result"
    }
   ],
   "source": [
    "menu_rest.price_range.value_counts()"
   ]
  },
  {
   "cell_type": "code",
   "execution_count": 55,
   "id": "a6d831b4",
   "metadata": {},
   "outputs": [],
   "source": [
    "\n",
    "\n",
    "# zamiana wartości w kolumnie 'Price_Rank' zgodnie z zasadą $ -> 1, $$ -> 2, $$$ -> 3, $$$$ -> 4\n",
    "menu_rest['price_range'] = menu_rest['price_range'].replace({'$': 1, '$$': 2, '$$$': 3, '$$$$': 4})\n"
   ]
  },
  {
   "cell_type": "code",
   "execution_count": 58,
   "id": "722031ba",
   "metadata": {},
   "outputs": [
    {
     "name": "stdout",
     "output_type": "stream",
     "text": [
      "0.050976387721716566\n"
     ]
    }
   ],
   "source": [
    "cor_water = menu_rest[menu_rest['name_x'] == 'Bottled Water']\n",
    "correlation = menu_rest['price'].corr(cor_water['price_range'])\n",
    "\n",
    "print(correlation)\n",
    "\n",
    "##wynik wskazuje, że droga restauracja NIE liczy więcej za wodę."
   ]
  },
  {
   "cell_type": "code",
   "execution_count": null,
   "id": "cfd8d073",
   "metadata": {},
   "outputs": [],
   "source": []
  },
  {
   "cell_type": "code",
   "execution_count": 59,
   "id": "1293ee26",
   "metadata": {},
   "outputs": [
    {
     "name": "stdout",
     "output_type": "stream",
     "text": [
      "0.15935127930917012\n"
     ]
    }
   ],
   "source": [
    "cor_iced_tea = menu_rest[menu_rest['name_x'] == 'Iced Tea']\n",
    "correlation1 = menu_rest['price'].corr(cor_iced_tea['price_range'])\n",
    "\n",
    "print(correlation1)"
   ]
  },
  {
   "cell_type": "code",
   "execution_count": 60,
   "id": "2014af15",
   "metadata": {},
   "outputs": [
    {
     "name": "stdout",
     "output_type": "stream",
     "text": [
      "0.06560712664283648\n"
     ]
    }
   ],
   "source": [
    "cor_sprite = menu_rest[menu_rest['name_x'] == 'Sprite']\n",
    "correlation2 = menu_rest['price'].corr(cor_sprite['price_range'])\n",
    "\n",
    "print(correlation2)"
   ]
  },
  {
   "cell_type": "code",
   "execution_count": 61,
   "id": "c8cceeab",
   "metadata": {},
   "outputs": [
    {
     "name": "stdout",
     "output_type": "stream",
     "text": [
      "0.38369213116715256\n"
     ]
    }
   ],
   "source": [
    "cor_milk = menu_rest[menu_rest['name_x'] == 'Milk']\n",
    "correlation3 = menu_rest['price'].corr(cor_milk['price_range'])\n",
    "\n",
    "print(correlation3)"
   ]
  },
  {
   "cell_type": "code",
   "execution_count": 62,
   "id": "dc26f654",
   "metadata": {},
   "outputs": [
    {
     "name": "stdout",
     "output_type": "stream",
     "text": [
      "0.6411946580957548\n"
     ]
    }
   ],
   "source": [
    "cor_lem = menu_rest[menu_rest['name_x'] == 'Lemonade']\n",
    "correlation4 = menu_rest['price'].corr(cor_lem['price_range'])\n",
    "\n",
    "print(correlation4)"
   ]
  },
  {
   "cell_type": "code",
   "execution_count": 63,
   "id": "5f9a2b7b",
   "metadata": {},
   "outputs": [
    {
     "name": "stdout",
     "output_type": "stream",
     "text": [
      "0.025757147333739395\n"
     ]
    }
   ],
   "source": [
    "cor_coke = menu_rest[menu_rest['name_x'] == 'Diet Coke']\n",
    "correlation5 = menu_rest['price'].corr(cor_coke['price_range'])\n",
    "\n",
    "print(correlation5)"
   ]
  },
  {
   "cell_type": "code",
   "execution_count": null,
   "id": "ca066314",
   "metadata": {},
   "outputs": [],
   "source": []
  },
  {
   "cell_type": "code",
   "execution_count": null,
   "id": "2f3b6239",
   "metadata": {},
   "outputs": [],
   "source": []
  },
  {
   "cell_type": "code",
   "execution_count": null,
   "id": "0263b0c3",
   "metadata": {},
   "outputs": [],
   "source": []
  },
  {
   "cell_type": "code",
   "execution_count": null,
   "id": "fc4b0770",
   "metadata": {},
   "outputs": [],
   "source": [
    "#powyższe wskazuje, że w przypadku wody w butelce rank cenowy restauracji nie ma wpywu na cenę wody, ale dla mleka, \n",
    "##lemoniady czy ice tea ten wskaźnik rośnie. Co wskazuje, że im wyższy rank tym cena jest wyższa za te naoje."
   ]
  },
  {
   "cell_type": "code",
   "execution_count": null,
   "id": "6c52af69",
   "metadata": {},
   "outputs": [],
   "source": [
    "##Można powiedzieć, że istnieje umiarkowany dodatni związek między rankiem restauracji a ceną napoju, \n",
    "##ale nie można na tej podstawie wnioskować, że rank restauracji ma bezpośredni wpływ na cenę napoju. \n",
    "##Wzrost rankingu restauracji może być po prostu skorelowany z wyższymi cenami napojów, \n",
    "##ale przyczyną tego związku może być na przykład poziom ekskluzywności restauracji lub \n",
    "##średnie zarobki klientów, którzy odwiedzają tę restaurację."
   ]
  },
  {
   "cell_type": "code",
   "execution_count": null,
   "id": "31ca4c45",
   "metadata": {},
   "outputs": [],
   "source": [
    "###pizza"
   ]
  },
  {
   "cell_type": "code",
   "execution_count": null,
   "id": "222d4f4d",
   "metadata": {},
   "outputs": [],
   "source": [
    "# wyszukiwanie wartości w kolumnie 'category', które zawierają słowo 'pizza'\n",
    "pattern = re.compile(r'\\b\\w*Pizza\\w*\\b', flags=re.IGNORECASE) # wyrażenie regularne dla słowa 'pizza'\n",
    "pizza_rows = menu_rest[menu_rest['category_x'].str.contains(pattern, regex=True)]\n",
    "pizza_categories = pizza_rows['category_x'].unique()\n"
   ]
  },
  {
   "cell_type": "code",
   "execution_count": null,
   "id": "9c12dca6",
   "metadata": {},
   "outputs": [],
   "source": [
    "pizza_counts = menu_rest[menu_rest['category_x'].str.contains('Pizza', case=False)]['category_x'].value_counts()\n",
    "\n",
    "pizza_count"
   ]
  },
  {
   "cell_type": "code",
   "execution_count": null,
   "id": "f4484381",
   "metadata": {},
   "outputs": [],
   "source": [
    "pizza_category = menu_rest[menu_rest['category_x'].str.contains('Pizza', case=False, regex=True)]['category_x'].value_counts()\n",
    "pizza_category[:10]"
   ]
  },
  {
   "cell_type": "code",
   "execution_count": null,
   "id": "604fb7f5",
   "metadata": {},
   "outputs": [],
   "source": [
    "cor_pizza = menu_rest[menu_rest['category_x'] == 'Pizza']\n",
    "correlation_p1 = menu_rest['price'].corr(cor_pizza['price_range'])\n",
    "\n",
    "print(correlation_p1)"
   ]
  },
  {
   "cell_type": "code",
   "execution_count": null,
   "id": "2df16156",
   "metadata": {},
   "outputs": [],
   "source": [
    "cor_pizza2 = menu_rest[menu_rest['category_x'] == 'Specialty Pizzas']\n",
    "correlation_p2 = menu_rest['price'].corr(cor_pizza2['price_range'])\n",
    "\n",
    "print(correlation_p2)"
   ]
  },
  {
   "cell_type": "code",
   "execution_count": null,
   "id": "389566d8",
   "metadata": {},
   "outputs": [],
   "source": [
    "\n",
    "pizza3 = menu_rest.loc[menu_rest['category_x'] == 'Pizzas']\n",
    "corr3 = pizza3['price_range'].corr(pizza3['price'])\n",
    "print(corr3)"
   ]
  },
  {
   "cell_type": "code",
   "execution_count": null,
   "id": "cce4fe68",
   "metadata": {},
   "outputs": [],
   "source": [
    "\n",
    "pizza4 = menu_rest.loc[menu_rest['category_x'] == 'Specialty Pizza']\n",
    "corr4 = pizza4['price_range'].corr(pizza4['price'])\n",
    "\n",
    "print(corr4)"
   ]
  },
  {
   "cell_type": "code",
   "execution_count": null,
   "id": "6201ae51",
   "metadata": {},
   "outputs": [],
   "source": [
    "\n",
    "pizza5 = menu_rest.loc[menu_rest['category_x'] == 'Large Specialty Pizza']\n",
    "corr = pizza5['price_range'].corr(pizza5['price'])\n",
    "\n",
    "print(corr)\n"
   ]
  },
  {
   "cell_type": "code",
   "execution_count": null,
   "id": "7f085bef",
   "metadata": {},
   "outputs": [],
   "source": [
    "pizza6 = menu_rest.loc[menu_rest['category_x'] == 'Create Your Own Pizza']\n",
    "corr6 = pizza6['price_range'].corr(pizza6['price'])\n",
    "\n",
    "print(corr6)"
   ]
  },
  {
   "cell_type": "code",
   "execution_count": null,
   "id": "9a65eaaa",
   "metadata": {},
   "outputs": [],
   "source": []
  },
  {
   "cell_type": "code",
   "execution_count": null,
   "id": "b2a9cb2d",
   "metadata": {},
   "outputs": [],
   "source": []
  },
  {
   "cell_type": "code",
   "execution_count": null,
   "id": "cd43e29e",
   "metadata": {},
   "outputs": [],
   "source": []
  },
  {
   "cell_type": "code",
   "execution_count": null,
   "id": "bf77fc6b",
   "metadata": {},
   "outputs": [],
   "source": []
  },
  {
   "cell_type": "code",
   "execution_count": null,
   "id": "cdf5600d",
   "metadata": {},
   "outputs": [],
   "source": [
    "unique_categories = menu_rest['category_y'].nunique()\n",
    "unique_categories"
   ]
  },
  {
   "cell_type": "code",
   "execution_count": null,
   "id": "0ad01e74",
   "metadata": {},
   "outputs": [],
   "source": [
    "category_counts = menu_rest['category_y'].value_counts()\n",
    "category_counts"
   ]
  },
  {
   "cell_type": "code",
   "execution_count": null,
   "id": "f4586a91",
   "metadata": {},
   "outputs": [],
   "source": []
  }
 ],
 "metadata": {
  "kernelspec": {
   "display_name": "Python 3 (ipykernel)",
   "language": "python",
   "name": "python3"
  },
  "language_info": {
   "codemirror_mode": {
    "name": "ipython",
    "version": 3
   },
   "file_extension": ".py",
   "mimetype": "text/x-python",
   "name": "python",
   "nbconvert_exporter": "python",
   "pygments_lexer": "ipython3",
   "version": "3.8.16"
  }
 },
 "nbformat": 4,
 "nbformat_minor": 5
}
